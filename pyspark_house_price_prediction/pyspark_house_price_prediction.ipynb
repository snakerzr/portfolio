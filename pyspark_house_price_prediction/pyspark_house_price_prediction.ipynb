{
 "cells": [
  {
   "cell_type": "markdown",
   "id": "GEqQaHzsZ_bA",
   "metadata": {
    "id": "GEqQaHzsZ_bA"
   },
   "source": [
    "# Предсказание стоимости жилья с помощью PySpark\n",
    "\n",
    "Нужно обучить модель линейной регрессии на данных о жилье в Калифорнии в 1990 году.  \n",
    "И предсказать медианную стоимость дома в жилом массиве.\n",
    "Метрики: `RMSE`, `MAE`, `R2`."
   ]
  },
  {
   "cell_type": "markdown",
   "id": "53871372",
   "metadata": {
    "id": "53871372"
   },
   "source": [
    "# Подготовка данных"
   ]
  },
  {
   "cell_type": "code",
   "execution_count": 1,
   "id": "4c5e8809",
   "metadata": {
    "id": "df92e3ec"
   },
   "outputs": [],
   "source": [
    "import pandas as pd \n",
    "import numpy as np\n",
    "\n",
    "import pyspark\n",
    "from pyspark.sql import SparkSession\n",
    "# from pyspark.sql.types import *\n",
    "import pyspark.sql.functions as F\n",
    "from pyspark.sql.window import Window\n",
    "\n",
    "from pyspark.ml.feature import StringIndexer, VectorAssembler, StandardScaler, Imputer\n",
    "from pyspark.ml.regression import LinearRegression\n",
    "\n",
    "from pyspark.ml.evaluation import RegressionEvaluator\n",
    "\n",
    "from pyspark.ml.feature import OneHotEncoder    \n"
   ]
  },
  {
   "cell_type": "code",
   "execution_count": 2,
   "id": "90a03fab",
   "metadata": {
    "id": "df92e3ec"
   },
   "outputs": [],
   "source": [
    "RANDOM_SEED = 2022"
   ]
  },
  {
   "cell_type": "code",
   "execution_count": 3,
   "id": "e035e0ca",
   "metadata": {
    "id": "df92e3ec"
   },
   "outputs": [],
   "source": [
    "spark = SparkSession.builder \\\n",
    "                    .master(\"local\") \\\n",
    "                    .appName(\"Practice project\") \\\n",
    "                    .getOrCreate()"
   ]
  },
  {
   "cell_type": "code",
   "execution_count": 4,
   "id": "df92e3ec",
   "metadata": {
    "id": "df92e3ec"
   },
   "outputs": [
    {
     "name": "stderr",
     "output_type": "stream",
     "text": [
      "                                                                                \r"
     ]
    }
   ],
   "source": [
    "df = spark.read.option('header', 'true').csv('/datasets/housing.csv', inferSchema = True) "
   ]
  },
  {
   "cell_type": "code",
   "execution_count": 5,
   "id": "0820e23b",
   "metadata": {},
   "outputs": [
    {
     "name": "stdout",
     "output_type": "stream",
     "text": [
      "root\n",
      " |-- longitude: double (nullable = true)\n",
      " |-- latitude: double (nullable = true)\n",
      " |-- housing_median_age: double (nullable = true)\n",
      " |-- total_rooms: double (nullable = true)\n",
      " |-- total_bedrooms: double (nullable = true)\n",
      " |-- population: double (nullable = true)\n",
      " |-- households: double (nullable = true)\n",
      " |-- median_income: double (nullable = true)\n",
      " |-- median_house_value: double (nullable = true)\n",
      " |-- ocean_proximity: string (nullable = true)\n",
      "\n"
     ]
    }
   ],
   "source": [
    "# Посмотрим на столбцы и их типы данных\n",
    "df.printSchema()"
   ]
  },
  {
   "cell_type": "markdown",
   "id": "82bd4141",
   "metadata": {},
   "source": [
    "В колонках датасета содержатся следующие данные:\n",
    "* `'longitude'` — широта;\n",
    "* `'latitude'` — долгота;\n",
    "* `'housing_median_age'` — медианный возраст жителей жилого массива;\n",
    "* `'total_rooms'` — общее количество комнат в домах жилого массива;\n",
    "* `'total_bedrooms'` — общее количество спален в домах жилого массива;\n",
    "* `'population'` — количество человек, которые проживают в жилом массиве;\n",
    "* `'households'` — количество домовладений в жилом массиве;\n",
    "* `'median_income'` — медианный доход жителей жилого массива;\n",
    "* `'median_house_value'` — медианная стоимость дома в жилом массиве;\n",
    "* `'ocean_proximity'` — близость к океану."
   ]
  },
  {
   "cell_type": "code",
   "execution_count": 6,
   "id": "9d8270fc",
   "metadata": {},
   "outputs": [
    {
     "name": "stderr",
     "output_type": "stream",
     "text": [
      "                                                                                \r"
     ]
    },
    {
     "data": {
      "text/html": [
       "<div>\n",
       "<style scoped>\n",
       "    .dataframe tbody tr th:only-of-type {\n",
       "        vertical-align: middle;\n",
       "    }\n",
       "\n",
       "    .dataframe tbody tr th {\n",
       "        vertical-align: top;\n",
       "    }\n",
       "\n",
       "    .dataframe thead th {\n",
       "        text-align: right;\n",
       "    }\n",
       "</style>\n",
       "<table border=\"1\" class=\"dataframe\">\n",
       "  <thead>\n",
       "    <tr style=\"text-align: right;\">\n",
       "      <th></th>\n",
       "      <th>summary</th>\n",
       "      <th>longitude</th>\n",
       "      <th>latitude</th>\n",
       "      <th>housing_median_age</th>\n",
       "      <th>total_rooms</th>\n",
       "      <th>total_bedrooms</th>\n",
       "      <th>population</th>\n",
       "      <th>households</th>\n",
       "      <th>median_income</th>\n",
       "      <th>median_house_value</th>\n",
       "      <th>ocean_proximity</th>\n",
       "    </tr>\n",
       "  </thead>\n",
       "  <tbody>\n",
       "    <tr>\n",
       "      <th>0</th>\n",
       "      <td>count</td>\n",
       "      <td>20640</td>\n",
       "      <td>20640</td>\n",
       "      <td>20640</td>\n",
       "      <td>20640</td>\n",
       "      <td>20433</td>\n",
       "      <td>20640</td>\n",
       "      <td>20640</td>\n",
       "      <td>20640</td>\n",
       "      <td>20640</td>\n",
       "      <td>20640</td>\n",
       "    </tr>\n",
       "    <tr>\n",
       "      <th>1</th>\n",
       "      <td>mean</td>\n",
       "      <td>-119.56970445736148</td>\n",
       "      <td>35.6318614341087</td>\n",
       "      <td>28.639486434108527</td>\n",
       "      <td>2635.7630813953488</td>\n",
       "      <td>537.8705525375618</td>\n",
       "      <td>1425.4767441860465</td>\n",
       "      <td>499.5396802325581</td>\n",
       "      <td>3.8706710029070246</td>\n",
       "      <td>206855.81690891474</td>\n",
       "      <td>None</td>\n",
       "    </tr>\n",
       "    <tr>\n",
       "      <th>2</th>\n",
       "      <td>stddev</td>\n",
       "      <td>2.003531723502584</td>\n",
       "      <td>2.135952397457101</td>\n",
       "      <td>12.58555761211163</td>\n",
       "      <td>2181.6152515827944</td>\n",
       "      <td>421.38507007403115</td>\n",
       "      <td>1132.46212176534</td>\n",
       "      <td>382.3297528316098</td>\n",
       "      <td>1.899821717945263</td>\n",
       "      <td>115395.61587441359</td>\n",
       "      <td>None</td>\n",
       "    </tr>\n",
       "    <tr>\n",
       "      <th>3</th>\n",
       "      <td>min</td>\n",
       "      <td>-124.35</td>\n",
       "      <td>32.54</td>\n",
       "      <td>1.0</td>\n",
       "      <td>2.0</td>\n",
       "      <td>1.0</td>\n",
       "      <td>3.0</td>\n",
       "      <td>1.0</td>\n",
       "      <td>0.4999</td>\n",
       "      <td>14999.0</td>\n",
       "      <td>&lt;1H OCEAN</td>\n",
       "    </tr>\n",
       "    <tr>\n",
       "      <th>4</th>\n",
       "      <td>max</td>\n",
       "      <td>-114.31</td>\n",
       "      <td>41.95</td>\n",
       "      <td>52.0</td>\n",
       "      <td>39320.0</td>\n",
       "      <td>6445.0</td>\n",
       "      <td>35682.0</td>\n",
       "      <td>6082.0</td>\n",
       "      <td>15.0001</td>\n",
       "      <td>500001.0</td>\n",
       "      <td>NEAR OCEAN</td>\n",
       "    </tr>\n",
       "  </tbody>\n",
       "</table>\n",
       "</div>"
      ],
      "text/plain": [
       "  summary            longitude           latitude  housing_median_age  \\\n",
       "0   count                20640              20640               20640   \n",
       "1    mean  -119.56970445736148   35.6318614341087  28.639486434108527   \n",
       "2  stddev    2.003531723502584  2.135952397457101   12.58555761211163   \n",
       "3     min              -124.35              32.54                 1.0   \n",
       "4     max              -114.31              41.95                52.0   \n",
       "\n",
       "          total_rooms      total_bedrooms          population  \\\n",
       "0               20640               20433               20640   \n",
       "1  2635.7630813953488   537.8705525375618  1425.4767441860465   \n",
       "2  2181.6152515827944  421.38507007403115    1132.46212176534   \n",
       "3                 2.0                 1.0                 3.0   \n",
       "4             39320.0              6445.0             35682.0   \n",
       "\n",
       "          households       median_income  median_house_value ocean_proximity  \n",
       "0              20640               20640               20640           20640  \n",
       "1  499.5396802325581  3.8706710029070246  206855.81690891474            None  \n",
       "2  382.3297528316098   1.899821717945263  115395.61587441359            None  \n",
       "3                1.0              0.4999             14999.0       <1H OCEAN  \n",
       "4             6082.0             15.0001            500001.0      NEAR OCEAN  "
      ]
     },
     "execution_count": 6,
     "metadata": {},
     "output_type": "execute_result"
    }
   ],
   "source": [
    "df.describe().toPandas()"
   ]
  },
  {
   "cell_type": "code",
   "execution_count": 7,
   "id": "c04efce0",
   "metadata": {},
   "outputs": [
    {
     "name": "stderr",
     "output_type": "stream",
     "text": [
      "                                                                                \r"
     ]
    },
    {
     "name": "stdout",
     "output_type": "stream",
     "text": [
      "longitude 0\n",
      "latitude 0\n",
      "housing_median_age 0\n",
      "total_rooms 0\n",
      "total_bedrooms 207\n",
      "population 0\n",
      "households 0\n",
      "median_income 0\n",
      "median_house_value 0\n",
      "ocean_proximity 0\n"
     ]
    }
   ],
   "source": [
    "# Поиск пропусков в данных\n",
    "for column in df.columns:\n",
    "    check_col = F.col(column).isNull()\n",
    "    print(column, df.filter(check_col == True).count())"
   ]
  },
  {
   "cell_type": "code",
   "execution_count": 8,
   "id": "04225133",
   "metadata": {},
   "outputs": [],
   "source": [
    "# Можем заполнить пропуски \"Missing\" или -999\n",
    "# df = df.na.fill(\"Missing\", [\"total_bedrooms\"])"
   ]
  },
  {
   "cell_type": "code",
   "execution_count": 9,
   "id": "5b647ff4",
   "metadata": {},
   "outputs": [],
   "source": [
    "# Можем заполнить пропуски total_bedrooms медианным значением \n",
    "\n",
    "# imputer = Imputer(\n",
    "#           inputCols= [\"total_bedrooms\"],\n",
    "#           outputCols = [\"total_bedrooms_imputed\"]\n",
    "#     ).setStrategy(\"median\")\n",
    "\n",
    "\n",
    "# df = imputer.fit(df).transform(df)"
   ]
  },
  {
   "cell_type": "markdown",
   "id": "21c77637",
   "metadata": {},
   "source": [
    "<!-- # # Создадим оконную функцию\n",
    "# window = Window().partitionBy(\"households\")\n",
    "\n",
    "# # Заполним пропущенные значения средним по группам \"\"\n",
    "# data_filled = data.withColumn(\"mean\", F.mean(\"total_bedrooms\").over(window)) \\\n",
    "#               .withColumn(\"total_bedrooms\", F.when(F.col(\"total_bedrooms\").isNull(),  F.col(\"mean\")) \\\n",
    "#               .otherwise(F.col(\"total_bedrooms\"))) \\\n",
    "#               .drop(\"mean\") -->"
   ]
  },
  {
   "cell_type": "code",
   "execution_count": 10,
   "id": "657ae5f7",
   "metadata": {},
   "outputs": [],
   "source": [
    "# Попробуем заполнить по группе\n",
    "\n",
    "# Создаем окно\n",
    "window = Window().partitionBy(['ocean_proximity'])\n",
    "# Создаем столбец со средним в окне\n",
    "df = df.withColumn(\"total_bedrooms_mean_by_ocean_p\",F.avg(F.col('total_bedrooms')).over(window))\n",
    "# Создаем условие, что если значение в total_bedrooms isNull , \n",
    "# то берем значение из total_bedrooms_mean_by_ocean_p\n",
    "# В противном случае оставляем как есть\n",
    "df = df.withColumn(\"total_bedrooms_filled\",\n",
    "                   F.when(F.col('total_bedrooms').isNull(),F.col('total_bedrooms_mean_by_ocean_p'))\n",
    "                   .otherwise(F.col('total_bedrooms')))"
   ]
  },
  {
   "cell_type": "code",
   "execution_count": 11,
   "id": "5b25d180",
   "metadata": {},
   "outputs": [
    {
     "name": "stdout",
     "output_type": "stream",
     "text": [
      "+---------+--------+------------------+-----------+--------------+----------+----------+-------------+------------------+---------------+------------------------------+---------------------+\n",
      "|longitude|latitude|housing_median_age|total_rooms|total_bedrooms|population|households|median_income|median_house_value|ocean_proximity|total_bedrooms_mean_by_ocean_p|total_bedrooms_filled|\n",
      "+---------+--------+------------------+-----------+--------------+----------+----------+-------------+------------------+---------------+------------------------------+---------------------+\n",
      "|  -118.32|   33.35|              27.0|     1675.0|         521.0|     744.0|     331.0|       2.1579|          450000.0|         ISLAND|                         420.4|                521.0|\n",
      "|  -118.33|   33.34|              52.0|     2359.0|         591.0|    1100.0|     431.0|       2.8333|          414700.0|         ISLAND|                         420.4|                591.0|\n",
      "|  -118.32|   33.33|              52.0|     2127.0|         512.0|     733.0|     288.0|       3.3906|          300000.0|         ISLAND|                         420.4|                512.0|\n",
      "|  -118.32|   33.34|              52.0|      996.0|         264.0|     341.0|     160.0|       2.7361|          450000.0|         ISLAND|                         420.4|                264.0|\n",
      "|  -118.48|   33.43|              29.0|      716.0|         214.0|     422.0|     173.0|       2.6042|          287500.0|         ISLAND|                         420.4|                214.0|\n",
      "|  -124.17|    41.8|              16.0|     2739.0|         480.0|    1259.0|     436.0|       3.7557|          109400.0|     NEAR OCEAN|             538.6156773211568|                480.0|\n",
      "|   -124.3|    41.8|              19.0|     2672.0|         552.0|    1298.0|     478.0|       1.9797|           85800.0|     NEAR OCEAN|             538.6156773211568|                552.0|\n",
      "|  -124.23|   41.75|              11.0|     3159.0|         616.0|    1343.0|     479.0|       2.4805|           73200.0|     NEAR OCEAN|             538.6156773211568|                616.0|\n",
      "|  -124.21|   41.77|              17.0|     3461.0|         722.0|    1947.0|     647.0|       2.5795|           68400.0|     NEAR OCEAN|             538.6156773211568|                722.0|\n",
      "|  -124.19|   41.78|              15.0|     3140.0|         714.0|    1645.0|     640.0|       1.6654|           74600.0|     NEAR OCEAN|             538.6156773211568|                714.0|\n",
      "|  -124.22|   41.73|              28.0|     3003.0|         699.0|    1530.0|     653.0|       1.7038|           78300.0|     NEAR OCEAN|             538.6156773211568|                699.0|\n",
      "|  -124.21|   41.75|              20.0|     3810.0|         787.0|    1993.0|     721.0|       2.0074|           66900.0|     NEAR OCEAN|             538.6156773211568|                787.0|\n",
      "|  -124.17|   41.76|              20.0|     2673.0|         538.0|    1282.0|     514.0|       2.4605|          105900.0|     NEAR OCEAN|             538.6156773211568|                538.0|\n",
      "|  -124.16|   41.74|              15.0|     2715.0|         569.0|    1532.0|     530.0|       2.1829|           69500.0|     NEAR OCEAN|             538.6156773211568|                569.0|\n",
      "|  -124.14|   41.95|              21.0|     2696.0|         578.0|    1208.0|     494.0|        2.275|          122400.0|     NEAR OCEAN|             538.6156773211568|                578.0|\n",
      "|  -124.16|   41.92|              19.0|     1668.0|         324.0|     841.0|     283.0|       2.1336|           75000.0|     NEAR OCEAN|             538.6156773211568|                324.0|\n",
      "|   -124.3|   41.84|              17.0|     2677.0|         531.0|    1244.0|     456.0|       3.0313|          103600.0|     NEAR OCEAN|             538.6156773211568|                531.0|\n",
      "|  -124.15|   41.81|              17.0|     3276.0|         628.0|    3546.0|     585.0|       2.2868|          103100.0|     NEAR OCEAN|             538.6156773211568|                628.0|\n",
      "|  -123.92|   41.54|              22.0|     2920.0|         636.0|    1382.0|     499.0|       2.0202|           71100.0|     NEAR OCEAN|             538.6156773211568|                636.0|\n",
      "|  -124.17|    40.8|              52.0|      661.0|         316.0|     392.0|     244.0|        0.957|           60000.0|     NEAR OCEAN|             538.6156773211568|                316.0|\n",
      "+---------+--------+------------------+-----------+--------------+----------+----------+-------------+------------------+---------------+------------------------------+---------------------+\n",
      "only showing top 20 rows\n",
      "\n"
     ]
    },
    {
     "name": "stderr",
     "output_type": "stream",
     "text": [
      "                                                                                \r"
     ]
    }
   ],
   "source": [
    "df.show()"
   ]
  },
  {
   "cell_type": "code",
   "execution_count": 12,
   "id": "96a8219c",
   "metadata": {},
   "outputs": [
    {
     "name": "stderr",
     "output_type": "stream",
     "text": [
      "                                                                                \r"
     ]
    }
   ],
   "source": [
    "# OHE\n",
    "indexer = StringIndexer(inputCols=['ocean_proximity'], \n",
    "                        outputCols=['ocean_proximity_idx']) \n",
    "df = indexer.fit(df).transform(df)\n",
    "\n",
    "encoder = OneHotEncoder(inputCols=['ocean_proximity_idx'],\n",
    "                        outputCols=['ocean_proximity_ohe'])\n",
    "df = encoder.fit(df).transform(df)"
   ]
  },
  {
   "cell_type": "code",
   "execution_count": 13,
   "id": "ae4865c8",
   "metadata": {},
   "outputs": [
    {
     "name": "stderr",
     "output_type": "stream",
     "text": [
      "[Stage 41:=================================================>      (66 + 1) / 75]\r"
     ]
    },
    {
     "name": "stdout",
     "output_type": "stream",
     "text": [
      "+-------------------+\n",
      "|ocean_proximity_idx|\n",
      "+-------------------+\n",
      "|                0.0|\n",
      "|                1.0|\n",
      "|                4.0|\n",
      "|                3.0|\n",
      "|                2.0|\n",
      "+-------------------+\n",
      "\n"
     ]
    },
    {
     "name": "stderr",
     "output_type": "stream",
     "text": [
      "                                                                                \r"
     ]
    }
   ],
   "source": [
    "df.select('ocean_proximity_idx').distinct().show()"
   ]
  },
  {
   "cell_type": "code",
   "execution_count": 14,
   "id": "57d6c5fd",
   "metadata": {},
   "outputs": [
    {
     "name": "stderr",
     "output_type": "stream",
     "text": [
      "[Stage 51:====================================================>   (70 + 1) / 75]\r"
     ]
    },
    {
     "name": "stdout",
     "output_type": "stream",
     "text": [
      "+-------------------+\n",
      "|ocean_proximity_ohe|\n",
      "+-------------------+\n",
      "|      (4,[2],[1.0])|\n",
      "|      (4,[0],[1.0])|\n",
      "|          (4,[],[])|\n",
      "|      (4,[3],[1.0])|\n",
      "|      (4,[1],[1.0])|\n",
      "+-------------------+\n",
      "\n"
     ]
    },
    {
     "name": "stderr",
     "output_type": "stream",
     "text": [
      "                                                                                \r"
     ]
    }
   ],
   "source": [
    "df.select('ocean_proximity_ohe').distinct().show()"
   ]
  },
  {
   "cell_type": "code",
   "execution_count": 15,
   "id": "7872468e",
   "metadata": {},
   "outputs": [],
   "source": [
    "# Создадим список с числовыми признаками\n",
    "num_cols = ['longitude', 'latitude', 'housing_median_age',\n",
    "        'total_rooms', 'population', 'households', \n",
    "        'median_income',\n",
    "        'total_bedrooms_filled']\n",
    "\n",
    "target = 'median_house_value'\n",
    "\n",
    "# cat_cols = ['ocean_proximity_ohe']"
   ]
  },
  {
   "cell_type": "code",
   "execution_count": 16,
   "id": "7c3b9992",
   "metadata": {},
   "outputs": [
    {
     "name": "stderr",
     "output_type": "stream",
     "text": [
      "                                                                                \r"
     ]
    }
   ],
   "source": [
    "# Соберем числовые признаки в один вектор\n",
    "numerical_assembler = VectorAssembler(inputCols=num_cols, outputCol=\"numerical_features\")\n",
    "df = numerical_assembler.transform(df) \n",
    "\n",
    "# Стандартизируем эти признаки\n",
    "standardScaler = StandardScaler(inputCol='numerical_features', outputCol=\"numerical_features_scaled\")\n",
    "df = standardScaler.fit(df).transform(df) "
   ]
  },
  {
   "cell_type": "code",
   "execution_count": 17,
   "id": "d7eaa8b1",
   "metadata": {},
   "outputs": [
    {
     "name": "stdout",
     "output_type": "stream",
     "text": [
      "+-------------------+-------------------------+\n",
      "|ocean_proximity_ohe|numerical_features_scaled|\n",
      "+-------------------+-------------------------+\n",
      "|          (4,[],[])|     [-59.055715770325...|\n",
      "|          (4,[],[])|     [-59.060706956580...|\n",
      "|          (4,[],[])|     [-59.055715770325...|\n",
      "+-------------------+-------------------------+\n",
      "only showing top 3 rows\n",
      "\n"
     ]
    }
   ],
   "source": [
    "# Объединим числовые признаки с категориальными\n",
    "all_features = ['ocean_proximity_ohe','numerical_features_scaled']\n",
    "\n",
    "final_assembler = VectorAssembler(inputCols=all_features, \n",
    "                                  outputCol=\"features\") \n",
    "df = final_assembler.transform(df)\n",
    "\n",
    "df.select(all_features).show(3) "
   ]
  },
  {
   "cell_type": "code",
   "execution_count": 18,
   "id": "10724356",
   "metadata": {},
   "outputs": [
    {
     "name": "stderr",
     "output_type": "stream",
     "text": [
      "[Stage 63:=====================================================>(197 + 1) / 200]\r"
     ]
    },
    {
     "name": "stdout",
     "output_type": "stream",
     "text": [
      "16530 4110\n"
     ]
    },
    {
     "name": "stderr",
     "output_type": "stream",
     "text": [
      "                                                                                \r"
     ]
    }
   ],
   "source": [
    "# train, test split\n",
    "\n",
    "train_data, test_data = df.randomSplit([.8,.2], seed=RANDOM_SEED)\n",
    "print(train_data.count(), test_data.count()) "
   ]
  },
  {
   "cell_type": "markdown",
   "id": "9f0a82f3",
   "metadata": {
    "id": "9f0a82f3"
   },
   "source": [
    "# Обучение моделей"
   ]
  },
  {
   "cell_type": "code",
   "execution_count": 19,
   "id": "bddb08c4",
   "metadata": {
    "id": "bddb08c4"
   },
   "outputs": [
    {
     "name": "stderr",
     "output_type": "stream",
     "text": [
      "22/04/02 08:27:07 WARN BLAS: Failed to load implementation from: com.github.fommil.netlib.NativeSystemBLAS\n",
      "22/04/02 08:27:07 WARN BLAS: Failed to load implementation from: com.github.fommil.netlib.NativeRefBLAS\n",
      "                                                                                \r"
     ]
    }
   ],
   "source": [
    "# Обучим модель на всех данных. Числовых и категориальных\n",
    "lr = LinearRegression(featuresCol = 'features', labelCol=target, regParam=0.3, elasticNetParam=0.8)\n",
    "lr_model = lr.fit(train_data)"
   ]
  },
  {
   "cell_type": "code",
   "execution_count": 20,
   "id": "54d7ee0c",
   "metadata": {},
   "outputs": [],
   "source": [
    "# Функция оценки модели\n",
    "def model_eval(model,test_data,target_col_name):\n",
    "    predictions = model.transform(test_data)\n",
    "    predictedLabes = predictions.select(target_col_name, \"prediction\")\n",
    "    evaluator = RegressionEvaluator(labelCol=target_col_name, predictionCol=\"prediction\")\n",
    "    rmse = evaluator.evaluate(predictedLabes,{evaluator.metricName: \"rmse\"})\n",
    "    r2 = evaluator.evaluate(predictedLabes, {evaluator.metricName: \"r2\"})\n",
    "    mae = evaluator.evaluate(predictedLabes, {evaluator.metricName: \"mae\"})\n",
    "    return rmse,r2,mae"
   ]
  },
  {
   "cell_type": "code",
   "execution_count": 21,
   "id": "94371338",
   "metadata": {},
   "outputs": [
    {
     "name": "stderr",
     "output_type": "stream",
     "text": [
      "[Stage 81:====================================================> (196 + 1) / 200]\r"
     ]
    },
    {
     "name": "stdout",
     "output_type": "stream",
     "text": [
      "67694.8674479923 0.6673098128867803 49534.91211901142\n"
     ]
    },
    {
     "name": "stderr",
     "output_type": "stream",
     "text": [
      "                                                                                \r"
     ]
    }
   ],
   "source": [
    "# Оценим модель и сохраним метрики в переменные для дальнейшего сравнения\n",
    "rmse,r2,mae = model_eval(lr_model,test_data,target)\n",
    "print(rmse,r2,mae)"
   ]
  },
  {
   "cell_type": "code",
   "execution_count": 22,
   "id": "a77b5ea1",
   "metadata": {},
   "outputs": [
    {
     "name": "stderr",
     "output_type": "stream",
     "text": [
      "                                                                                \r"
     ]
    }
   ],
   "source": [
    "# Обучим другую модель, только на числовых признаках\n",
    "lr2 = LinearRegression(featuresCol = 'numerical_features_scaled', labelCol=target, regParam=0.3, elasticNetParam=0.8)\n",
    "lr2_model = lr2.fit(train_data)"
   ]
  },
  {
   "cell_type": "code",
   "execution_count": 23,
   "id": "d878ad45",
   "metadata": {},
   "outputs": [
    {
     "name": "stderr",
     "output_type": "stream",
     "text": [
      "[Stage 99:===================================================>  (192 + 1) / 200]\r"
     ]
    },
    {
     "name": "stdout",
     "output_type": "stream",
     "text": [
      "68501.72462810247 0.6593318609468255 50628.9271515048\n"
     ]
    },
    {
     "name": "stderr",
     "output_type": "stream",
     "text": [
      "                                                                                \r"
     ]
    }
   ],
   "source": [
    "# Оценим вторую модель и сохраним метрики\n",
    "rmse2,r22,mae2 = model_eval(lr2_model,test_data,target)\n",
    "print(rmse2,r22,mae2)"
   ]
  },
  {
   "cell_type": "code",
   "execution_count": 24,
   "id": "06c66b36",
   "metadata": {},
   "outputs": [],
   "source": [
    "# Построим сводную таблицу по метрикам\n",
    "scores = {\"RMSE\":[rmse,rmse2],\n",
    "         \"r2\":[r2,r22],\n",
    "         \"MAE\":[mae,mae2],\n",
    "         }\n",
    "scores = pd.DataFrame(scores,index=['lr1','lr2']).T\n"
   ]
  },
  {
   "cell_type": "markdown",
   "id": "757fd103",
   "metadata": {
    "id": "757fd103"
   },
   "source": [
    "# Анализ результатов"
   ]
  },
  {
   "cell_type": "code",
   "execution_count": 25,
   "id": "a4dc4d73",
   "metadata": {},
   "outputs": [
    {
     "data": {
      "text/html": [
       "<div>\n",
       "<style scoped>\n",
       "    .dataframe tbody tr th:only-of-type {\n",
       "        vertical-align: middle;\n",
       "    }\n",
       "\n",
       "    .dataframe tbody tr th {\n",
       "        vertical-align: top;\n",
       "    }\n",
       "\n",
       "    .dataframe thead th {\n",
       "        text-align: right;\n",
       "    }\n",
       "</style>\n",
       "<table border=\"1\" class=\"dataframe\">\n",
       "  <thead>\n",
       "    <tr style=\"text-align: right;\">\n",
       "      <th></th>\n",
       "      <th>lr1</th>\n",
       "      <th>lr2</th>\n",
       "    </tr>\n",
       "  </thead>\n",
       "  <tbody>\n",
       "    <tr>\n",
       "      <th>RMSE</th>\n",
       "      <td>67694.867448</td>\n",
       "      <td>68501.724628</td>\n",
       "    </tr>\n",
       "    <tr>\n",
       "      <th>r2</th>\n",
       "      <td>0.667310</td>\n",
       "      <td>0.659332</td>\n",
       "    </tr>\n",
       "    <tr>\n",
       "      <th>MAE</th>\n",
       "      <td>49534.912119</td>\n",
       "      <td>50628.927152</td>\n",
       "    </tr>\n",
       "  </tbody>\n",
       "</table>\n",
       "</div>"
      ],
      "text/plain": [
       "               lr1           lr2\n",
       "RMSE  67694.867448  68501.724628\n",
       "r2        0.667310      0.659332\n",
       "MAE   49534.912119  50628.927152"
      ]
     },
     "execution_count": 25,
     "metadata": {},
     "output_type": "execute_result"
    }
   ],
   "source": [
    "scores"
   ]
  },
  {
   "cell_type": "markdown",
   "id": "cb064074",
   "metadata": {},
   "source": [
    "**RMSE** - это квадратный корень среднеквадратичной ошибки модели. Чем больше этот коэф., тем \"дальше\" предсказание модели находится от тестовых данных. При этом сам коэф. описывает те единицы, в которых и нужно предсказать регрессию. Т.е. если это денежные единицы, то коэф. 67694 говорит о денежных единицах.\n",
    "\n",
    "**R2** - коэффициент детерминации. Чем ближе к 1, тем лучше предсказывает модель. Коэф. 0.66 у первой модели говорит о том, что среднеквадратичная ошибка модели на 44% меньше, чем MSE предсказания по среднему.\n",
    "\n",
    "**MAE** - это средняя абсолютная ошибка (отклонение). В ней в отличии от MSE не происходит возведения в квадрат,а вместо этого беруться значения модуля разницы между предсказанным и фактическим значением. Тоже говорит о тех значениях, в которых и необходимо предсказать регрессию. Чем ближе к 0, тем лучше."
   ]
  },
  {
   "cell_type": "markdown",
   "id": "43767087",
   "metadata": {},
   "source": [
    "**Вывод**  \n",
    "В нашем случае по всем метрикам первая модель, в которой использовались категориальные признаки, лучше чем вторая, в которой были только числовые."
   ]
  }
 ],
 "metadata": {
  "ExecuteTimeLog": [
   {
    "duration": 643,
    "start_time": "2022-03-30T12:21:01.403Z"
   },
   {
    "duration": 17,
    "start_time": "2022-03-30T12:21:04.514Z"
   },
   {
    "duration": 3,
    "start_time": "2022-03-30T12:21:07.187Z"
   },
   {
    "duration": 656,
    "start_time": "2022-03-30T12:21:56.816Z"
   },
   {
    "duration": 139,
    "start_time": "2022-03-30T12:49:59.129Z"
   },
   {
    "duration": 4,
    "start_time": "2022-03-30T12:50:05.094Z"
   },
   {
    "duration": 4,
    "start_time": "2022-03-30T12:50:16.205Z"
   },
   {
    "duration": 3,
    "start_time": "2022-03-30T12:51:30.529Z"
   },
   {
    "duration": 3,
    "start_time": "2022-03-30T12:51:41.519Z"
   },
   {
    "duration": 14622,
    "start_time": "2022-03-30T12:51:42.759Z"
   },
   {
    "duration": 7222,
    "start_time": "2022-03-30T12:52:26.062Z"
   },
   {
    "duration": 698,
    "start_time": "2022-03-30T12:52:33.287Z"
   },
   {
    "duration": 32,
    "start_time": "2022-03-30T12:52:43.917Z"
   },
   {
    "duration": 6,
    "start_time": "2022-03-30T12:55:26.341Z"
   },
   {
    "duration": 4,
    "start_time": "2022-03-30T12:56:29.985Z"
   },
   {
    "duration": 7,
    "start_time": "2022-03-30T12:57:00.735Z"
   },
   {
    "duration": 5,
    "start_time": "2022-03-30T12:57:05.719Z"
   },
   {
    "duration": 5,
    "start_time": "2022-03-30T12:57:10.519Z"
   },
   {
    "duration": 208,
    "start_time": "2022-03-30T13:06:10.305Z"
   },
   {
    "duration": 4604,
    "start_time": "2022-03-30T13:06:17.808Z"
   },
   {
    "duration": 487,
    "start_time": "2022-03-30T14:07:21.676Z"
   },
   {
    "duration": 3,
    "start_time": "2022-03-30T14:07:23.969Z"
   },
   {
    "duration": 14705,
    "start_time": "2022-03-30T14:07:24.985Z"
   },
   {
    "duration": 8698,
    "start_time": "2022-03-30T14:07:39.692Z"
   },
   {
    "duration": 72,
    "start_time": "2022-03-30T14:07:48.392Z"
   },
   {
    "duration": 5501,
    "start_time": "2022-03-30T14:07:48.466Z"
   },
   {
    "duration": 3517,
    "start_time": "2022-03-30T14:07:53.968Z"
   },
   {
    "duration": 27,
    "start_time": "2022-03-30T14:11:23.213Z"
   },
   {
    "duration": 3240,
    "start_time": "2022-03-30T14:11:27.938Z"
   },
   {
    "duration": 18,
    "start_time": "2022-03-30T14:11:39.627Z"
   },
   {
    "duration": 19,
    "start_time": "2022-03-30T14:11:42.083Z"
   },
   {
    "duration": 2824,
    "start_time": "2022-03-30T14:11:44.355Z"
   },
   {
    "duration": 15,
    "start_time": "2022-03-30T14:11:54.650Z"
   },
   {
    "duration": 12,
    "start_time": "2022-03-30T14:12:03.210Z"
   },
   {
    "duration": 2061,
    "start_time": "2022-03-30T14:12:04.875Z"
   },
   {
    "duration": 14,
    "start_time": "2022-03-30T14:12:40.264Z"
   },
   {
    "duration": 2073,
    "start_time": "2022-03-30T14:12:41.497Z"
   },
   {
    "duration": 41,
    "start_time": "2022-03-30T14:15:46.663Z"
   },
   {
    "duration": 8,
    "start_time": "2022-03-30T14:15:53.446Z"
   },
   {
    "duration": 7,
    "start_time": "2022-03-30T14:16:16.524Z"
   },
   {
    "duration": 6,
    "start_time": "2022-03-30T14:16:25.307Z"
   },
   {
    "duration": 5,
    "start_time": "2022-03-30T14:16:38.818Z"
   },
   {
    "duration": 7,
    "start_time": "2022-03-30T14:16:43.299Z"
   },
   {
    "duration": 75,
    "start_time": "2022-03-30T14:16:48.051Z"
   },
   {
    "duration": 14,
    "start_time": "2022-03-30T14:16:52.282Z"
   },
   {
    "duration": 13,
    "start_time": "2022-03-30T14:25:22.677Z"
   },
   {
    "duration": 3,
    "start_time": "2022-03-30T14:25:28.510Z"
   },
   {
    "duration": 4,
    "start_time": "2022-03-30T14:25:30.526Z"
   },
   {
    "duration": 381,
    "start_time": "2022-03-30T14:25:32.326Z"
   },
   {
    "duration": 4,
    "start_time": "2022-03-30T14:25:33.437Z"
   },
   {
    "duration": 1190,
    "start_time": "2022-03-30T14:25:35.292Z"
   },
   {
    "duration": 13,
    "start_time": "2022-03-30T14:25:37.965Z"
   },
   {
    "duration": 1846,
    "start_time": "2022-03-30T14:30:42.118Z"
   },
   {
    "duration": 380,
    "start_time": "2022-03-30T14:31:40.187Z"
   },
   {
    "duration": 158,
    "start_time": "2022-03-30T14:31:49.844Z"
   },
   {
    "duration": 1759,
    "start_time": "2022-03-30T14:35:50.213Z"
   },
   {
    "duration": 1140,
    "start_time": "2022-03-30T14:42:07.951Z"
   },
   {
    "duration": 1658,
    "start_time": "2022-03-30T14:42:22.167Z"
   },
   {
    "duration": 190,
    "start_time": "2022-03-30T14:44:27.503Z"
   },
   {
    "duration": 334,
    "start_time": "2022-03-30T14:44:41.255Z"
   },
   {
    "duration": 7,
    "start_time": "2022-03-30T14:44:45.037Z"
   },
   {
    "duration": 1800,
    "start_time": "2022-03-30T14:44:53.821Z"
   },
   {
    "duration": 7,
    "start_time": "2022-03-30T15:01:48.893Z"
   },
   {
    "duration": 4,
    "start_time": "2022-03-30T15:01:54.611Z"
   },
   {
    "duration": 18,
    "start_time": "2022-03-30T15:01:57.637Z"
   },
   {
    "duration": 34,
    "start_time": "2022-03-30T15:02:04.973Z"
   },
   {
    "duration": 2082,
    "start_time": "2022-03-30T15:02:12.659Z"
   },
   {
    "duration": 1519,
    "start_time": "2022-03-30T15:06:22.245Z"
   },
   {
    "duration": 1171,
    "start_time": "2022-03-30T15:06:48.629Z"
   },
   {
    "duration": 4444,
    "start_time": "2022-03-30T15:06:54.765Z"
   },
   {
    "duration": 30,
    "start_time": "2022-03-30T15:10:42.470Z"
   },
   {
    "duration": 33,
    "start_time": "2022-03-30T15:10:56.766Z"
   },
   {
    "duration": 2241,
    "start_time": "2022-03-30T15:11:02.550Z"
   },
   {
    "duration": 3,
    "start_time": "2022-03-30T15:11:20.717Z"
   },
   {
    "duration": 2,
    "start_time": "2022-03-30T15:11:21.573Z"
   },
   {
    "duration": 389,
    "start_time": "2022-03-30T15:11:23.219Z"
   },
   {
    "duration": 4,
    "start_time": "2022-03-30T15:11:24.227Z"
   },
   {
    "duration": 1170,
    "start_time": "2022-03-30T15:11:26.619Z"
   },
   {
    "duration": 1438,
    "start_time": "2022-03-30T15:11:29.396Z"
   },
   {
    "duration": 1204,
    "start_time": "2022-03-30T15:11:45.275Z"
   },
   {
    "duration": 25,
    "start_time": "2022-03-30T15:11:52.874Z"
   },
   {
    "duration": 8276,
    "start_time": "2022-03-30T15:11:55.410Z"
   },
   {
    "duration": 181,
    "start_time": "2022-03-30T15:24:08.082Z"
   },
   {
    "duration": 1259,
    "start_time": "2022-03-30T15:24:58.207Z"
   },
   {
    "duration": 891,
    "start_time": "2022-03-30T15:25:06.006Z"
   },
   {
    "duration": 883,
    "start_time": "2022-03-30T15:25:16.597Z"
   },
   {
    "duration": 705,
    "start_time": "2022-03-30T15:25:21.868Z"
   },
   {
    "duration": 4196,
    "start_time": "2022-03-30T15:25:30.572Z"
   },
   {
    "duration": 4,
    "start_time": "2022-03-30T15:27:17.239Z"
   },
   {
    "duration": 3,
    "start_time": "2022-03-30T15:32:25.078Z"
   },
   {
    "duration": 3751,
    "start_time": "2022-03-30T15:32:26.141Z"
   },
   {
    "duration": 474,
    "start_time": "2022-03-30T15:32:31.701Z"
   },
   {
    "duration": 498,
    "start_time": "2022-04-01T14:34:04.033Z"
   },
   {
    "duration": 3,
    "start_time": "2022-04-01T14:34:06.070Z"
   },
   {
    "duration": 14745,
    "start_time": "2022-04-01T14:34:07.566Z"
   },
   {
    "duration": 7506,
    "start_time": "2022-04-01T14:34:24.406Z"
   },
   {
    "duration": 14,
    "start_time": "2022-04-01T14:34:32.182Z"
   },
   {
    "duration": 4037,
    "start_time": "2022-04-01T14:34:36.789Z"
   },
   {
    "duration": 3695,
    "start_time": "2022-04-01T14:34:43.940Z"
   },
   {
    "duration": 74,
    "start_time": "2022-04-01T14:35:00.958Z"
   },
   {
    "duration": 2199,
    "start_time": "2022-04-01T14:35:03.422Z"
   },
   {
    "duration": 1421,
    "start_time": "2022-04-01T14:35:29.411Z"
   },
   {
    "duration": 16,
    "start_time": "2022-04-01T14:35:44.642Z"
   },
   {
    "duration": 178,
    "start_time": "2022-04-01T14:35:48.773Z"
   },
   {
    "duration": 92,
    "start_time": "2022-04-01T14:36:14.656Z"
   },
   {
    "duration": 16,
    "start_time": "2022-04-01T14:36:26.864Z"
   },
   {
    "duration": 3237,
    "start_time": "2022-04-01T14:36:31.079Z"
   },
   {
    "duration": 3159,
    "start_time": "2022-04-01T14:37:52.172Z"
   },
   {
    "duration": 6,
    "start_time": "2022-04-01T14:45:10.478Z"
   },
   {
    "duration": 3,
    "start_time": "2022-04-01T14:45:25.509Z"
   },
   {
    "duration": 5591,
    "start_time": "2022-04-01T14:45:54.620Z"
   },
   {
    "duration": 567,
    "start_time": "2022-04-01T14:46:08.442Z"
   },
   {
    "duration": 14836,
    "start_time": "2022-04-01T14:47:34.207Z"
   },
   {
    "duration": 441,
    "start_time": "2022-04-01T14:48:57.498Z"
   },
   {
    "duration": 2,
    "start_time": "2022-04-01T14:49:45.575Z"
   },
   {
    "duration": 438,
    "start_time": "2022-04-01T14:49:46.719Z"
   },
   {
    "duration": 4,
    "start_time": "2022-04-01T14:49:47.887Z"
   },
   {
    "duration": 1115,
    "start_time": "2022-04-01T14:49:49.431Z"
   },
   {
    "duration": 2082,
    "start_time": "2022-04-01T14:49:51.695Z"
   },
   {
    "duration": 49,
    "start_time": "2022-04-01T14:49:55.025Z"
   },
   {
    "duration": 834,
    "start_time": "2022-04-01T14:49:56.911Z"
   },
   {
    "duration": 515,
    "start_time": "2022-04-01T14:50:00.126Z"
   },
   {
    "duration": 1871,
    "start_time": "2022-04-01T14:50:02.775Z"
   },
   {
    "duration": 1927,
    "start_time": "2022-04-01T14:50:06.282Z"
   },
   {
    "duration": 3,
    "start_time": "2022-04-01T14:50:11.766Z"
   },
   {
    "duration": 4011,
    "start_time": "2022-04-01T14:50:13.326Z"
   },
   {
    "duration": 412,
    "start_time": "2022-04-01T14:50:18.238Z"
   },
   {
    "duration": 10711,
    "start_time": "2022-04-01T14:50:24.901Z"
   },
   {
    "duration": 317320,
    "start_time": "2022-04-01T14:51:00.220Z"
   },
   {
    "duration": 7,
    "start_time": "2022-04-01T14:58:22.446Z"
   },
   {
    "duration": 3,
    "start_time": "2022-04-01T14:58:49.141Z"
   },
   {
    "duration": 27,
    "start_time": "2022-04-01T14:58:54.804Z"
   },
   {
    "duration": 1567507,
    "start_time": "2022-04-01T14:59:05.428Z"
   },
   {
    "duration": 906759,
    "start_time": "2022-04-01T15:25:28.551Z"
   },
   {
    "duration": 510,
    "start_time": "2022-04-01T15:40:41.866Z"
   },
   {
    "duration": 2,
    "start_time": "2022-04-01T15:40:42.378Z"
   },
   {
    "duration": 15655,
    "start_time": "2022-04-01T15:40:42.382Z"
   },
   {
    "duration": 10288,
    "start_time": "2022-04-01T15:40:58.040Z"
   },
   {
    "duration": 79,
    "start_time": "2022-04-01T15:41:08.331Z"
   },
   {
    "duration": 5832,
    "start_time": "2022-04-01T15:41:08.412Z"
   },
   {
    "duration": 5982,
    "start_time": "2022-04-01T15:41:14.247Z"
   },
   {
    "duration": 2,
    "start_time": "2022-04-01T15:41:20.231Z"
   },
   {
    "duration": 72,
    "start_time": "2022-04-01T15:41:20.236Z"
   },
   {
    "duration": 198,
    "start_time": "2022-04-01T15:41:20.311Z"
   },
   {
    "duration": 2507,
    "start_time": "2022-04-01T15:41:20.511Z"
   },
   {
    "duration": 1892,
    "start_time": "2022-04-01T15:41:23.020Z"
   },
   {
    "duration": 3904,
    "start_time": "2022-04-01T15:41:24.914Z"
   },
   {
    "duration": 3904,
    "start_time": "2022-04-01T15:41:28.822Z"
   },
   {
    "duration": 15,
    "start_time": "2022-04-01T15:41:32.728Z"
   },
   {
    "duration": 3,
    "start_time": "2022-04-01T15:41:32.810Z"
   },
   {
    "duration": 6498,
    "start_time": "2022-04-01T15:41:32.816Z"
   },
   {
    "duration": 798,
    "start_time": "2022-04-01T15:41:39.317Z"
   },
   {
    "duration": 18214,
    "start_time": "2022-04-01T15:41:40.117Z"
   },
   {
    "duration": 785,
    "start_time": "2022-04-01T15:41:58.333Z"
   },
   {
    "duration": 28007,
    "start_time": "2022-04-01T15:41:59.120Z"
   },
   {
    "duration": 7,
    "start_time": "2022-04-01T15:43:26.827Z"
   },
   {
    "duration": 5,
    "start_time": "2022-04-01T15:43:34.682Z"
   },
   {
    "duration": 1251,
    "start_time": "2022-04-01T15:46:39.697Z"
   },
   {
    "duration": 79,
    "start_time": "2022-04-01T15:56:05.100Z"
   },
   {
    "duration": 7,
    "start_time": "2022-04-01T15:57:14.313Z"
   },
   {
    "duration": 19,
    "start_time": "2022-04-01T15:57:19.288Z"
   },
   {
    "duration": 11,
    "start_time": "2022-04-01T16:00:31.062Z"
   },
   {
    "duration": 8,
    "start_time": "2022-04-01T16:21:00.338Z"
   },
   {
    "duration": 9,
    "start_time": "2022-04-01T16:21:05.106Z"
   },
   {
    "duration": 3,
    "start_time": "2022-04-01T16:21:34.153Z"
   },
   {
    "duration": 10,
    "start_time": "2022-04-01T16:22:09.974Z"
   },
   {
    "duration": 5986,
    "start_time": "2022-04-01T16:23:33.930Z"
   },
   {
    "duration": 84,
    "start_time": "2022-04-01T16:24:46.894Z"
   },
   {
    "duration": 14056,
    "start_time": "2022-04-01T16:24:54.454Z"
   },
   {
    "duration": 3,
    "start_time": "2022-04-01T16:25:08.512Z"
   },
   {
    "duration": 5,
    "start_time": "2022-04-01T16:29:26.889Z"
   },
   {
    "duration": 12786,
    "start_time": "2022-04-01T16:30:24.462Z"
   },
   {
    "duration": 31006,
    "start_time": "2022-04-01T16:32:55.765Z"
   },
   {
    "duration": 521,
    "start_time": "2022-04-01T16:38:30.006Z"
   },
   {
    "duration": 3,
    "start_time": "2022-04-01T16:38:30.530Z"
   },
   {
    "duration": 15179,
    "start_time": "2022-04-01T16:38:30.535Z"
   },
   {
    "duration": 8400,
    "start_time": "2022-04-01T16:38:45.716Z"
   },
   {
    "duration": 23,
    "start_time": "2022-04-01T16:38:54.118Z"
   },
   {
    "duration": 4699,
    "start_time": "2022-04-01T16:38:54.143Z"
   },
   {
    "duration": 3988,
    "start_time": "2022-04-01T16:38:58.844Z"
   },
   {
    "duration": 3,
    "start_time": "2022-04-01T16:39:02.834Z"
   },
   {
    "duration": 73,
    "start_time": "2022-04-01T16:39:02.839Z"
   },
   {
    "duration": 197,
    "start_time": "2022-04-01T16:39:02.915Z"
   },
   {
    "duration": 2421,
    "start_time": "2022-04-01T16:39:03.115Z"
   },
   {
    "duration": 1885,
    "start_time": "2022-04-01T16:39:05.538Z"
   },
   {
    "duration": 2,
    "start_time": "2022-04-01T16:39:07.426Z"
   },
   {
    "duration": 4101,
    "start_time": "2022-04-01T16:39:07.431Z"
   },
   {
    "duration": 4217,
    "start_time": "2022-04-01T16:39:11.533Z"
   },
   {
    "duration": 10,
    "start_time": "2022-04-01T16:39:15.809Z"
   },
   {
    "duration": 4,
    "start_time": "2022-04-01T16:39:15.821Z"
   },
   {
    "duration": 6992,
    "start_time": "2022-04-01T16:39:15.827Z"
   },
   {
    "duration": 711,
    "start_time": "2022-04-01T16:39:22.821Z"
   },
   {
    "duration": 17106,
    "start_time": "2022-04-01T16:39:23.534Z"
   },
   {
    "duration": 29582,
    "start_time": "2022-04-01T16:39:40.642Z"
   },
   {
    "duration": 9,
    "start_time": "2022-04-01T16:40:10.228Z"
   },
   {
    "duration": 27387,
    "start_time": "2022-04-01T16:40:10.239Z"
   },
   {
    "duration": 37544,
    "start_time": "2022-04-01T16:40:37.628Z"
   },
   {
    "duration": 12060,
    "start_time": "2022-04-01T16:41:46.518Z"
   },
   {
    "duration": 85,
    "start_time": "2022-04-01T16:43:27.257Z"
   },
   {
    "duration": 17,
    "start_time": "2022-04-01T16:43:59.039Z"
   },
   {
    "duration": 15,
    "start_time": "2022-04-01T16:44:13.454Z"
   },
   {
    "duration": 10,
    "start_time": "2022-04-01T16:44:21.967Z"
   },
   {
    "duration": 9,
    "start_time": "2022-04-01T16:44:27.213Z"
   },
   {
    "duration": 9,
    "start_time": "2022-04-01T16:45:20.931Z"
   },
   {
    "duration": 10,
    "start_time": "2022-04-01T16:45:24.043Z"
   },
   {
    "duration": 10,
    "start_time": "2022-04-01T16:45:26.955Z"
   },
   {
    "duration": 9,
    "start_time": "2022-04-01T16:45:32.386Z"
   },
   {
    "duration": 10871,
    "start_time": "2022-04-01T16:45:51.977Z"
   },
   {
    "duration": 10601,
    "start_time": "2022-04-01T16:46:02.850Z"
   },
   {
    "duration": 9,
    "start_time": "2022-04-01T16:46:13.453Z"
   },
   {
    "duration": 9,
    "start_time": "2022-04-01T16:46:20.713Z"
   },
   {
    "duration": 9,
    "start_time": "2022-04-01T16:46:34.792Z"
   },
   {
    "duration": 13,
    "start_time": "2022-04-01T16:47:54.443Z"
   },
   {
    "duration": 7,
    "start_time": "2022-04-01T16:48:04.547Z"
   },
   {
    "duration": 515,
    "start_time": "2022-04-02T08:25:59.575Z"
   },
   {
    "duration": 2,
    "start_time": "2022-04-02T08:26:00.092Z"
   },
   {
    "duration": 15136,
    "start_time": "2022-04-02T08:26:00.096Z"
   },
   {
    "duration": 8309,
    "start_time": "2022-04-02T08:26:15.235Z"
   },
   {
    "duration": 15,
    "start_time": "2022-04-02T08:26:23.546Z"
   },
   {
    "duration": 4388,
    "start_time": "2022-04-02T08:26:23.563Z"
   },
   {
    "duration": 4219,
    "start_time": "2022-04-02T08:26:27.953Z"
   },
   {
    "duration": 2,
    "start_time": "2022-04-02T08:26:32.233Z"
   },
   {
    "duration": 27,
    "start_time": "2022-04-02T08:26:32.237Z"
   },
   {
    "duration": 169,
    "start_time": "2022-04-02T08:26:32.266Z"
   },
   {
    "duration": 2132,
    "start_time": "2022-04-02T08:26:32.437Z"
   },
   {
    "duration": 1620,
    "start_time": "2022-04-02T08:26:34.633Z"
   },
   {
    "duration": 3913,
    "start_time": "2022-04-02T08:26:36.255Z"
   },
   {
    "duration": 3494,
    "start_time": "2022-04-02T08:26:40.239Z"
   },
   {
    "duration": 3,
    "start_time": "2022-04-02T08:26:43.735Z"
   },
   {
    "duration": 6606,
    "start_time": "2022-04-02T08:26:43.740Z"
   },
   {
    "duration": 693,
    "start_time": "2022-04-02T08:26:50.347Z"
   },
   {
    "duration": 15292,
    "start_time": "2022-04-02T08:26:51.042Z"
   },
   {
    "duration": 21925,
    "start_time": "2022-04-02T08:27:06.336Z"
   },
   {
    "duration": 5,
    "start_time": "2022-04-02T08:27:28.332Z"
   },
   {
    "duration": 15550,
    "start_time": "2022-04-02T08:27:28.338Z"
   },
   {
    "duration": 17244,
    "start_time": "2022-04-02T08:27:43.890Z"
   },
   {
    "duration": 12322,
    "start_time": "2022-04-02T08:28:01.136Z"
   },
   {
    "duration": 4,
    "start_time": "2022-04-02T08:28:13.460Z"
   },
   {
    "duration": 22,
    "start_time": "2022-04-02T08:28:13.466Z"
   },
   {
    "duration": 522,
    "start_time": "2022-04-02T16:22:54.559Z"
   },
   {
    "duration": 3,
    "start_time": "2022-04-02T16:22:55.083Z"
   },
   {
    "duration": 15565,
    "start_time": "2022-04-02T16:22:55.087Z"
   },
   {
    "duration": 9084,
    "start_time": "2022-04-02T16:23:10.655Z"
   },
   {
    "duration": 17,
    "start_time": "2022-04-02T16:23:19.743Z"
   },
   {
    "duration": 4993,
    "start_time": "2022-04-02T16:23:19.762Z"
   },
   {
    "duration": 5279,
    "start_time": "2022-04-02T16:23:24.756Z"
   },
   {
    "duration": 3,
    "start_time": "2022-04-02T16:23:30.037Z"
   },
   {
    "duration": 13,
    "start_time": "2022-04-02T16:23:30.042Z"
   },
   {
    "duration": 182,
    "start_time": "2022-04-02T16:23:30.057Z"
   },
   {
    "duration": 7536,
    "start_time": "2022-04-02T16:24:16.837Z"
   },
   {
    "duration": 4974,
    "start_time": "2022-04-02T16:25:00.935Z"
   },
   {
    "duration": 4035,
    "start_time": "2022-04-02T16:25:29.655Z"
   },
   {
    "duration": 77,
    "start_time": "2022-04-02T16:26:02.708Z"
   },
   {
    "duration": 9,
    "start_time": "2022-04-02T16:26:07.346Z"
   },
   {
    "duration": 19,
    "start_time": "2022-04-02T16:26:18.884Z"
   },
   {
    "duration": 26,
    "start_time": "2022-04-02T16:26:25.563Z"
   },
   {
    "duration": 8,
    "start_time": "2022-04-02T16:26:54.441Z"
   },
   {
    "duration": 8,
    "start_time": "2022-04-02T16:26:57.825Z"
   },
   {
    "duration": 12,
    "start_time": "2022-04-02T16:27:46.092Z"
   },
   {
    "duration": 28,
    "start_time": "2022-04-02T16:27:48.897Z"
   },
   {
    "duration": 23,
    "start_time": "2022-04-02T16:28:31.822Z"
   },
   {
    "duration": 748,
    "start_time": "2022-11-16T08:35:26.327Z"
   },
   {
    "duration": 415,
    "start_time": "2022-11-16T08:35:27.587Z"
   }
  ],
  "colab": {
   "name": "PySparkSprint.ipynb",
   "provenance": []
  },
  "kernelspec": {
   "display_name": "Python 3 (ipykernel)",
   "language": "python",
   "name": "python3"
  },
  "language_info": {
   "codemirror_mode": {
    "name": "ipython",
    "version": 3
   },
   "file_extension": ".py",
   "mimetype": "text/x-python",
   "name": "python",
   "nbconvert_exporter": "python",
   "pygments_lexer": "ipython3",
   "version": "3.10.6"
  },
  "toc": {
   "base_numbering": 1,
   "nav_menu": {},
   "number_sections": true,
   "sideBar": true,
   "skip_h1_title": true,
   "title_cell": "Table of Contents",
   "title_sidebar": "Contents",
   "toc_cell": false,
   "toc_position": {},
   "toc_section_display": true,
   "toc_window_display": false
  }
 },
 "nbformat": 4,
 "nbformat_minor": 5
}
