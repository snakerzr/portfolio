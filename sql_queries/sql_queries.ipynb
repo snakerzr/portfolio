{
 "cells": [
  {
   "cell_type": "markdown",
   "metadata": {
    "id": "sRW85nPMDWKb"
   },
   "source": [
    "# SQL запросы\n",
    "\n",
    "Здесь необходимо написать несколько SQL-запросов на 10 заданий. "
   ]
  },
  {
   "cell_type": "code",
   "execution_count": 1,
   "metadata": {
    "id": "nlZBlglMDWKe"
   },
   "outputs": [],
   "source": [
    "import os\n",
    "from dotenv import load_dotenv\n",
    "\n",
    "import pandas as pd\n",
    "import matplotlib.pyplot as plt\n",
    "import seaborn as sns\n",
    "from sqlalchemy import create_engine "
   ]
  },
  {
   "cell_type": "markdown",
   "metadata": {
    "id": "XnOE3n28DWKg"
   },
   "source": [
    "### Конфигурация для подключения к базе данных `data-analyst-advanced-sql`"
   ]
  },
  {
   "cell_type": "code",
   "execution_count": null,
   "metadata": {},
   "outputs": [],
   "source": [
    "load_dotenv('db_config.env')\n",
    "\n",
    "connection_string = 'postgresql://{}:{}@{}:{}/{}'.format(\n",
    "    os.getenv('USER'),\n",
    "    os.getenv('PWD'),\n",
    "    os.getenv('HOST'),\n",
    "    os.getenv('PORT'),\n",
    "    os.getenv('DB'),\n",
    ") \n",
    "\n",
    "engine = create_engine(connection_string) "
   ]
  },
  {
   "cell_type": "markdown",
   "metadata": {},
   "source": [
    "Проверка подключения."
   ]
  },
  {
   "cell_type": "code",
   "execution_count": 4,
   "metadata": {
    "id": "6Z_fw0yLDWKk"
   },
   "outputs": [],
   "source": [
    "query = '''\n",
    "SELECT *\n",
    "FROM stackoverflow.users\n",
    "LIMIT 10;\n",
    "'''\n",
    "\n",
    "sample_df = pd.read_sql_query(query, con=engine) "
   ]
  },
  {
   "cell_type": "code",
   "execution_count": 5,
   "metadata": {
    "id": "ZpuZ290oDWKk",
    "outputId": "22785a0a-e2bc-4559-ec3c-4879c4b377eb"
   },
   "outputs": [
    {
     "data": {
      "text/html": [
       "<div>\n",
       "<style scoped>\n",
       "    .dataframe tbody tr th:only-of-type {\n",
       "        vertical-align: middle;\n",
       "    }\n",
       "\n",
       "    .dataframe tbody tr th {\n",
       "        vertical-align: top;\n",
       "    }\n",
       "\n",
       "    .dataframe thead th {\n",
       "        text-align: right;\n",
       "    }\n",
       "</style>\n",
       "<table border=\"1\" class=\"dataframe\">\n",
       "  <thead>\n",
       "    <tr style=\"text-align: right;\">\n",
       "      <th></th>\n",
       "      <th>id</th>\n",
       "      <th>creation_date</th>\n",
       "      <th>display_name</th>\n",
       "      <th>last_access_date</th>\n",
       "      <th>location</th>\n",
       "      <th>reputation</th>\n",
       "      <th>views</th>\n",
       "    </tr>\n",
       "  </thead>\n",
       "  <tbody>\n",
       "    <tr>\n",
       "      <th>0</th>\n",
       "      <td>1</td>\n",
       "      <td>2008-07-31 14:22:31</td>\n",
       "      <td>Jeff Atwood</td>\n",
       "      <td>2018-08-29 02:34:23</td>\n",
       "      <td>El Cerrito, CA</td>\n",
       "      <td>44300</td>\n",
       "      <td>408587</td>\n",
       "    </tr>\n",
       "    <tr>\n",
       "      <th>1</th>\n",
       "      <td>2</td>\n",
       "      <td>2008-07-31 14:22:31</td>\n",
       "      <td>Geoff Dalgas</td>\n",
       "      <td>2018-08-23 17:31:56</td>\n",
       "      <td>Corvallis, OR</td>\n",
       "      <td>3491</td>\n",
       "      <td>23966</td>\n",
       "    </tr>\n",
       "    <tr>\n",
       "      <th>2</th>\n",
       "      <td>3</td>\n",
       "      <td>2008-07-31 14:22:31</td>\n",
       "      <td>Jarrod Dixon</td>\n",
       "      <td>2018-08-30 20:56:24</td>\n",
       "      <td>Raleigh, NC, United States</td>\n",
       "      <td>13418</td>\n",
       "      <td>24396</td>\n",
       "    </tr>\n",
       "    <tr>\n",
       "      <th>3</th>\n",
       "      <td>4</td>\n",
       "      <td>2008-07-31 14:22:31</td>\n",
       "      <td>Joel Spolsky</td>\n",
       "      <td>2018-08-14 22:18:15</td>\n",
       "      <td>New York, NY</td>\n",
       "      <td>28768</td>\n",
       "      <td>73755</td>\n",
       "    </tr>\n",
       "    <tr>\n",
       "      <th>4</th>\n",
       "      <td>5</td>\n",
       "      <td>2008-07-31 14:22:31</td>\n",
       "      <td>Jon Galloway</td>\n",
       "      <td>2018-08-29 16:48:36</td>\n",
       "      <td>San Diego, CA</td>\n",
       "      <td>39172</td>\n",
       "      <td>11700</td>\n",
       "    </tr>\n",
       "    <tr>\n",
       "      <th>5</th>\n",
       "      <td>8</td>\n",
       "      <td>2008-07-31 21:33:24</td>\n",
       "      <td>Eggs McLaren</td>\n",
       "      <td>2018-04-09 02:04:56</td>\n",
       "      <td>None</td>\n",
       "      <td>942</td>\n",
       "      <td>6372</td>\n",
       "    </tr>\n",
       "    <tr>\n",
       "      <th>6</th>\n",
       "      <td>9</td>\n",
       "      <td>2008-07-31 21:35:27</td>\n",
       "      <td>Kevin Dente</td>\n",
       "      <td>2018-08-30 18:18:03</td>\n",
       "      <td>Oakland, CA</td>\n",
       "      <td>14337</td>\n",
       "      <td>4949</td>\n",
       "    </tr>\n",
       "    <tr>\n",
       "      <th>7</th>\n",
       "      <td>11</td>\n",
       "      <td>2008-08-01 00:59:11</td>\n",
       "      <td>Anonymous User</td>\n",
       "      <td>2008-08-01 00:59:11</td>\n",
       "      <td>None</td>\n",
       "      <td>1890</td>\n",
       "      <td>2123</td>\n",
       "    </tr>\n",
       "    <tr>\n",
       "      <th>8</th>\n",
       "      <td>13</td>\n",
       "      <td>2008-08-01 04:18:05</td>\n",
       "      <td>Chris Jester-Young</td>\n",
       "      <td>2018-08-30 02:47:23</td>\n",
       "      <td>Raleigh, NC, United States</td>\n",
       "      <td>177138</td>\n",
       "      <td>35414</td>\n",
       "    </tr>\n",
       "    <tr>\n",
       "      <th>9</th>\n",
       "      <td>17</td>\n",
       "      <td>2008-08-01 12:02:22</td>\n",
       "      <td>Nick Berardi</td>\n",
       "      <td>2018-01-22 01:35:38</td>\n",
       "      <td>Issaquah, WA</td>\n",
       "      <td>44443</td>\n",
       "      <td>4786</td>\n",
       "    </tr>\n",
       "  </tbody>\n",
       "</table>\n",
       "</div>"
      ],
      "text/plain": [
       "   id       creation_date        display_name    last_access_date  \\\n",
       "0   1 2008-07-31 14:22:31         Jeff Atwood 2018-08-29 02:34:23   \n",
       "1   2 2008-07-31 14:22:31        Geoff Dalgas 2018-08-23 17:31:56   \n",
       "2   3 2008-07-31 14:22:31        Jarrod Dixon 2018-08-30 20:56:24   \n",
       "3   4 2008-07-31 14:22:31        Joel Spolsky 2018-08-14 22:18:15   \n",
       "4   5 2008-07-31 14:22:31        Jon Galloway 2018-08-29 16:48:36   \n",
       "5   8 2008-07-31 21:33:24        Eggs McLaren 2018-04-09 02:04:56   \n",
       "6   9 2008-07-31 21:35:27         Kevin Dente 2018-08-30 18:18:03   \n",
       "7  11 2008-08-01 00:59:11      Anonymous User 2008-08-01 00:59:11   \n",
       "8  13 2008-08-01 04:18:05  Chris Jester-Young 2018-08-30 02:47:23   \n",
       "9  17 2008-08-01 12:02:22        Nick Berardi 2018-01-22 01:35:38   \n",
       "\n",
       "                     location  reputation   views  \n",
       "0              El Cerrito, CA       44300  408587  \n",
       "1               Corvallis, OR        3491   23966  \n",
       "2  Raleigh, NC, United States       13418   24396  \n",
       "3                New York, NY       28768   73755  \n",
       "4               San Diego, CA       39172   11700  \n",
       "5                        None         942    6372  \n",
       "6                 Oakland, CA       14337    4949  \n",
       "7                        None        1890    2123  \n",
       "8  Raleigh, NC, United States      177138   35414  \n",
       "9                Issaquah, WA       44443    4786  "
      ]
     },
     "execution_count": 5,
     "metadata": {},
     "output_type": "execute_result"
    }
   ],
   "source": [
    "sample_df"
   ]
  },
  {
   "cell_type": "markdown",
   "metadata": {
    "id": "gnBMXkDBDWKm"
   },
   "source": [
    "# Задание 1"
   ]
  },
  {
   "cell_type": "markdown",
   "metadata": {
    "id": "vHsfOrrNDWKn"
   },
   "source": [
    "Выведите общую сумму просмотров постов за каждый месяц 2008 года. Если данных за какой-либо месяц в базе нет, такой месяц можно пропустить. Результат отсортируйте по убыванию общего количества просмотров."
   ]
  },
  {
   "cell_type": "markdown",
   "metadata": {
    "id": "N5rTgGNmDWKn"
   },
   "source": [
    "| month_date  | total_views |\n",
    "| ------------- | ------------- |\n",
    "| 2008-09-01  | 452928568  |\n",
    "| 2008-10-01  | 365400138  |\n",
    "| ...         | ... |"
   ]
  },
  {
   "cell_type": "code",
   "execution_count": 6,
   "metadata": {
    "id": "eWvykcXTDWKo"
   },
   "outputs": [
    {
     "data": {
      "text/html": [
       "<div>\n",
       "<style scoped>\n",
       "    .dataframe tbody tr th:only-of-type {\n",
       "        vertical-align: middle;\n",
       "    }\n",
       "\n",
       "    .dataframe tbody tr th {\n",
       "        vertical-align: top;\n",
       "    }\n",
       "\n",
       "    .dataframe thead th {\n",
       "        text-align: right;\n",
       "    }\n",
       "</style>\n",
       "<table border=\"1\" class=\"dataframe\">\n",
       "  <thead>\n",
       "    <tr style=\"text-align: right;\">\n",
       "      <th></th>\n",
       "      <th>month_date</th>\n",
       "      <th>total_views</th>\n",
       "    </tr>\n",
       "  </thead>\n",
       "  <tbody>\n",
       "    <tr>\n",
       "      <th>0</th>\n",
       "      <td>2008-09-01</td>\n",
       "      <td>452928568</td>\n",
       "    </tr>\n",
       "    <tr>\n",
       "      <th>1</th>\n",
       "      <td>2008-10-01</td>\n",
       "      <td>365400138</td>\n",
       "    </tr>\n",
       "    <tr>\n",
       "      <th>2</th>\n",
       "      <td>2008-11-01</td>\n",
       "      <td>221759651</td>\n",
       "    </tr>\n",
       "    <tr>\n",
       "      <th>3</th>\n",
       "      <td>2008-12-01</td>\n",
       "      <td>197792841</td>\n",
       "    </tr>\n",
       "    <tr>\n",
       "      <th>4</th>\n",
       "      <td>2008-08-01</td>\n",
       "      <td>131367083</td>\n",
       "    </tr>\n",
       "    <tr>\n",
       "      <th>5</th>\n",
       "      <td>2008-07-01</td>\n",
       "      <td>669895</td>\n",
       "    </tr>\n",
       "  </tbody>\n",
       "</table>\n",
       "</div>"
      ],
      "text/plain": [
       "  month_date  total_views\n",
       "0 2008-09-01    452928568\n",
       "1 2008-10-01    365400138\n",
       "2 2008-11-01    221759651\n",
       "3 2008-12-01    197792841\n",
       "4 2008-08-01    131367083\n",
       "5 2008-07-01       669895"
      ]
     },
     "metadata": {},
     "output_type": "display_data"
    }
   ],
   "source": [
    "query = '''\n",
    "SELECT DATE_TRUNC('month',creation_date)  AS month_date,\n",
    "    SUM(views_count) AS total_views\n",
    "    \n",
    "FROM stackoverflow.posts\n",
    "WHERE DATE_TRUNC('year',creation_date) = '2008-01-01'\n",
    "GROUP BY DATE_TRUNC('month',creation_date)\n",
    "ORDER BY total_views DESC\n",
    "'''\n",
    "\n",
    "df = pd.read_sql_query(query, con=engine) \n",
    "display(df)"
   ]
  },
  {
   "cell_type": "markdown",
   "metadata": {
    "id": "I_ZvhOxkDWKp"
   },
   "source": [
    "Проанализируйте итоговую таблицу. Отличаются ли данные за разные месяцы? С чем могут быть связаны отличия?"
   ]
  },
  {
   "cell_type": "markdown",
   "metadata": {
    "id": "luxSj17oDWKq"
   },
   "source": [
    "## Ответ:\n",
    "\n",
    "* Данные отличаются. \n",
    "* Странно, что такая разница между июлем и остальными месяцами\n",
    "* Странно, что есть информация только за 6 месяцев.\n",
    "* Отличия могут быть связаны с летом и меньшей активностью летом. С июля по сентябрь просмотры растут с пиком в сентябрь, дальше падают медленнее до декабря."
   ]
  },
  {
   "cell_type": "markdown",
   "metadata": {
    "id": "FziIXkn5DWKr"
   },
   "source": [
    "# Задание 2"
   ]
  },
  {
   "cell_type": "markdown",
   "metadata": {
    "id": "fTGESZvYDWKr"
   },
   "source": [
    "Выведите имена самых активных пользователей, которые в первый месяц после регистрации (включая день регистрации) дали больше 100 ответов. Вопросы, которые задавали пользователи, не учитывайте. Для каждого имени пользователя выведите количество уникальных значений `user_id`. Отсортируйте результат по полю с именами в лексикографическом порядке."
   ]
  },
  {
   "cell_type": "markdown",
   "metadata": {
    "id": "W5-tv6Y3DWKs"
   },
   "source": [
    "| display_name | count |\n",
    "| ------------ | ----- |\n",
    "| 1800 INFORMATION | 1 |\n",
    "| Adam Bellaire | 1 |\n",
    "| Adam Davis | 1 |\n",
    "| ... | ... |"
   ]
  },
  {
   "cell_type": "markdown",
   "metadata": {},
   "source": [
    "1. Создаем временную таблицу с ответами (`answers`)\n",
    "2. Создаем временную таблицу с пользователями (`users_and_date`), включая в нее столбец даты создания пользователя и дату создания плюс `INTERVAL '1 month'`\n",
    "3. Создаем временную таблицу (`temp_`), в которой \n",
    "    * присоединяем к таблице `answers` таблицу `users_and_date` так, чтобы напротив каждого ответа была информация о дате создания пользователя и этой же дате + месяц\n",
    "    * фильтруем эту таблицу условию, что дата создания ответа (`answer_creation_date`) находилась между датой создания пользователя (`user_creation_date`) и этой же датой + месяц (`date_plus_month`)\n",
    "    * из получившейся таблицы берем уникальные `user_id`, соответствующие `display_name` и считаем кол-во ответов принадлежащих каждому пользователю.\n",
    "4. Из временной таблицы берем `display_name` и считаем кол-во уникальных айди пользователей по имени `COUNT(user_id) OVER (PARTITION BY display_name)`. Сортируем по `display_name`\n"
   ]
  },
  {
   "cell_type": "code",
   "execution_count": 7,
   "metadata": {
    "id": "fIO-y-YjDWKt"
   },
   "outputs": [
    {
     "data": {
      "text/html": [
       "<div>\n",
       "<style scoped>\n",
       "    .dataframe tbody tr th:only-of-type {\n",
       "        vertical-align: middle;\n",
       "    }\n",
       "\n",
       "    .dataframe tbody tr th {\n",
       "        vertical-align: top;\n",
       "    }\n",
       "\n",
       "    .dataframe thead th {\n",
       "        text-align: right;\n",
       "    }\n",
       "</style>\n",
       "<table border=\"1\" class=\"dataframe\">\n",
       "  <thead>\n",
       "    <tr style=\"text-align: right;\">\n",
       "      <th></th>\n",
       "      <th>display_name</th>\n",
       "      <th>count</th>\n",
       "    </tr>\n",
       "  </thead>\n",
       "  <tbody>\n",
       "    <tr>\n",
       "      <th>0</th>\n",
       "      <td>1800 INFORMATION</td>\n",
       "      <td>1</td>\n",
       "    </tr>\n",
       "    <tr>\n",
       "      <th>1</th>\n",
       "      <td>Adam Bellaire</td>\n",
       "      <td>1</td>\n",
       "    </tr>\n",
       "    <tr>\n",
       "      <th>2</th>\n",
       "      <td>Adam Davis</td>\n",
       "      <td>1</td>\n",
       "    </tr>\n",
       "    <tr>\n",
       "      <th>3</th>\n",
       "      <td>Adam Liss</td>\n",
       "      <td>1</td>\n",
       "    </tr>\n",
       "    <tr>\n",
       "      <th>4</th>\n",
       "      <td>Amy B</td>\n",
       "      <td>1</td>\n",
       "    </tr>\n",
       "    <tr>\n",
       "      <th>...</th>\n",
       "      <td>...</td>\n",
       "      <td>...</td>\n",
       "    </tr>\n",
       "    <tr>\n",
       "      <th>57</th>\n",
       "      <td>leppie</td>\n",
       "      <td>1</td>\n",
       "    </tr>\n",
       "    <tr>\n",
       "      <th>58</th>\n",
       "      <td>lomaxx</td>\n",
       "      <td>1</td>\n",
       "    </tr>\n",
       "    <tr>\n",
       "      <th>59</th>\n",
       "      <td>mattlant</td>\n",
       "      <td>1</td>\n",
       "    </tr>\n",
       "    <tr>\n",
       "      <th>60</th>\n",
       "      <td>paxdiablo</td>\n",
       "      <td>1</td>\n",
       "    </tr>\n",
       "    <tr>\n",
       "      <th>61</th>\n",
       "      <td>tzot</td>\n",
       "      <td>1</td>\n",
       "    </tr>\n",
       "  </tbody>\n",
       "</table>\n",
       "<p>62 rows × 2 columns</p>\n",
       "</div>"
      ],
      "text/plain": [
       "        display_name  count\n",
       "0   1800 INFORMATION      1\n",
       "1      Adam Bellaire      1\n",
       "2         Adam Davis      1\n",
       "3          Adam Liss      1\n",
       "4              Amy B      1\n",
       "..               ...    ...\n",
       "57            leppie      1\n",
       "58            lomaxx      1\n",
       "59          mattlant      1\n",
       "60         paxdiablo      1\n",
       "61              tzot      1\n",
       "\n",
       "[62 rows x 2 columns]"
      ]
     },
     "metadata": {},
     "output_type": "display_data"
    }
   ],
   "source": [
    "query = '''\n",
    "WITH answers as (SELECT id as answer_id,\n",
    "                        creation_date AS answer_creation_date,\n",
    "                        user_id as author_id\n",
    "                FROM stackoverflow.posts\n",
    "                WHERE post_type_id = 2\n",
    "                ),\n",
    "                \n",
    "    users_and_date AS (SELECT id as user_id,\n",
    "                            creation_date as user_creation_date,\n",
    "                            creation_date + INTERVAL '1 month' as date_plus_month,\n",
    "                            display_name\n",
    "                    FROM stackoverflow.users\n",
    "                    ),\n",
    "\n",
    "    temp_ AS (SELECT DISTINCT(user_id),\n",
    "                    display_name,\n",
    "                    COUNT(answer_id) OVER (PARTITION BY user_id) AS answer_cnt\n",
    "            FROM answers AS an JOIN users_and_date AS ud ON an.author_id = ud.user_id\n",
    "            WHERE answer_creation_date BETWEEN user_creation_date AND date_plus_month\n",
    "            )\n",
    "SELECT display_name,\n",
    "    COUNT(user_id) OVER (PARTITION BY display_name)\n",
    "FROM temp_\n",
    "WHERE answer_cnt > 100\n",
    "ORDER BY display_name\n",
    "\n",
    "'''\n",
    "\n",
    "df = pd.read_sql_query(query, con=engine) \n",
    "display(df)"
   ]
  },
  {
   "cell_type": "code",
   "execution_count": 8,
   "metadata": {},
   "outputs": [
    {
     "data": {
      "text/html": [
       "<div>\n",
       "<style scoped>\n",
       "    .dataframe tbody tr th:only-of-type {\n",
       "        vertical-align: middle;\n",
       "    }\n",
       "\n",
       "    .dataframe tbody tr th {\n",
       "        vertical-align: top;\n",
       "    }\n",
       "\n",
       "    .dataframe thead th {\n",
       "        text-align: right;\n",
       "    }\n",
       "</style>\n",
       "<table border=\"1\" class=\"dataframe\">\n",
       "  <thead>\n",
       "    <tr style=\"text-align: right;\">\n",
       "      <th></th>\n",
       "      <th>count</th>\n",
       "    </tr>\n",
       "  </thead>\n",
       "  <tbody>\n",
       "    <tr>\n",
       "      <th>count</th>\n",
       "      <td>62.0</td>\n",
       "    </tr>\n",
       "    <tr>\n",
       "      <th>mean</th>\n",
       "      <td>1.0</td>\n",
       "    </tr>\n",
       "    <tr>\n",
       "      <th>std</th>\n",
       "      <td>0.0</td>\n",
       "    </tr>\n",
       "    <tr>\n",
       "      <th>min</th>\n",
       "      <td>1.0</td>\n",
       "    </tr>\n",
       "    <tr>\n",
       "      <th>25%</th>\n",
       "      <td>1.0</td>\n",
       "    </tr>\n",
       "    <tr>\n",
       "      <th>50%</th>\n",
       "      <td>1.0</td>\n",
       "    </tr>\n",
       "    <tr>\n",
       "      <th>75%</th>\n",
       "      <td>1.0</td>\n",
       "    </tr>\n",
       "    <tr>\n",
       "      <th>max</th>\n",
       "      <td>1.0</td>\n",
       "    </tr>\n",
       "  </tbody>\n",
       "</table>\n",
       "</div>"
      ],
      "text/plain": [
       "       count\n",
       "count   62.0\n",
       "mean     1.0\n",
       "std      0.0\n",
       "min      1.0\n",
       "25%      1.0\n",
       "50%      1.0\n",
       "75%      1.0\n",
       "max      1.0"
      ]
     },
     "execution_count": 8,
     "metadata": {},
     "output_type": "execute_result"
    }
   ],
   "source": [
    "df.describe()"
   ]
  },
  {
   "cell_type": "code",
   "execution_count": 9,
   "metadata": {},
   "outputs": [
    {
     "data": {
      "text/plain": [
       "<AxesSubplot:xlabel='count', ylabel='Count'>"
      ]
     },
     "execution_count": 9,
     "metadata": {},
     "output_type": "execute_result"
    },
    {
     "data": {
      "image/png": "[encoded data removed]",
      "text/plain": [
       "<Figure size 432x288 with 1 Axes>"
      ]
     },
     "metadata": {
      "needs_background": "light"
     },
     "output_type": "display_data"
    }
   ],
   "source": [
    "sns.histplot(data=df,x='count')"
   ]
  },
  {
   "cell_type": "code",
   "execution_count": 10,
   "metadata": {},
   "outputs": [
    {
     "data": {
      "image/png": "[encoded data removed]",
      "text/plain": [
       "<Figure size 432x288 with 1 Axes>"
      ]
     },
     "metadata": {
      "needs_background": "light"
     },
     "output_type": "display_data"
    }
   ],
   "source": [
    "sns.histplot(data=df,x='count',discrete=True);"
   ]
  },
  {
   "cell_type": "code",
   "execution_count": 11,
   "metadata": {},
   "outputs": [
    {
     "data": {
      "image/png": "[encoded data removed]",
      "text/plain": [
       "<Figure size 432x288 with 1 Axes>"
      ]
     },
     "metadata": {
      "needs_background": "light"
     },
     "output_type": "display_data"
    }
   ],
   "source": [
    "sns.boxplot(data=df,x='count');"
   ]
  },
  {
   "cell_type": "markdown",
   "metadata": {
    "id": "I3Wr82TplKpI"
   },
   "source": [
    "Какие аномалии наблюдаются в данных? О чём они говорят?"
   ]
  },
  {
   "cell_type": "markdown",
   "metadata": {
    "id": "CEIGGQ6ODWKy"
   },
   "source": [
    "## Ответ:\n",
    "\n",
    "<!-- * Можно предположить, что ответы кол-вом больше 200 - это выбросы, но нужно смотреть по распределению всех данных.\n",
    "* Можно предположить, что это боты. Т.к. 200 ответов / 30 дней ~ 7 ответов в день. Это много. -->\n",
    "* Одному названию пользователя соответствует один user_id. Аномалий нет."
   ]
  },
  {
   "cell_type": "markdown",
   "metadata": {
    "id": "JhM2xXj5DWKu"
   },
   "source": [
    "# Задание 3"
   ]
  },
  {
   "cell_type": "markdown",
   "metadata": {
    "id": "IS6xPqyyDWKu"
   },
   "source": [
    "Выведите количество постов за 2008 год по месяцам. Отберите посты от пользователей, которые зарегистрировались в сентябре 2008 года и сделали хотя бы один пост в декабре того же года. Отсортируйте таблицу по значению месяца по убыванию."
   ]
  },
  {
   "cell_type": "markdown",
   "metadata": {
    "id": "WmjhjV2xDWKv"
   },
   "source": [
    "| month | count |\n",
    "| ------|------ |\n",
    "| 2008-12-01 | 17641 |\n",
    "| 2008-11-01 | 18294 |\n",
    "| ... | ... |"
   ]
  },
  {
   "cell_type": "markdown",
   "metadata": {},
   "source": [
    "1. Создадим временную таблицу с пользователями, зарегистрировшимися в сентябре 2008 года\n",
    "2. Создадим временную таблицу с постами созданными в декабре 2008 года\n",
    "3. Объединим эти таблицы в одну с помощью INNER JOIN, чтобы отфильтровать пользователей зарегистрированных в сент. 2008 и сделавших хотя бы 1 пост в дек. 2008\n",
    "4. Отфильтруем пользователей в таблице `stackoverflow.posts`, чтобы в нее попали только пользователи из 3 таблицы и выведем месяц и кол-во постов."
   ]
  },
  {
   "cell_type": "code",
   "execution_count": 12,
   "metadata": {},
   "outputs": [
    {
     "data": {
      "text/html": [
       "<div>\n",
       "<style scoped>\n",
       "    .dataframe tbody tr th:only-of-type {\n",
       "        vertical-align: middle;\n",
       "    }\n",
       "\n",
       "    .dataframe tbody tr th {\n",
       "        vertical-align: top;\n",
       "    }\n",
       "\n",
       "    .dataframe thead th {\n",
       "        text-align: right;\n",
       "    }\n",
       "</style>\n",
       "<table border=\"1\" class=\"dataframe\">\n",
       "  <thead>\n",
       "    <tr style=\"text-align: right;\">\n",
       "      <th></th>\n",
       "      <th>date_month</th>\n",
       "      <th>count</th>\n",
       "    </tr>\n",
       "  </thead>\n",
       "  <tbody>\n",
       "    <tr>\n",
       "      <th>0</th>\n",
       "      <td>2008-12-01</td>\n",
       "      <td>17641</td>\n",
       "    </tr>\n",
       "    <tr>\n",
       "      <th>1</th>\n",
       "      <td>2008-11-01</td>\n",
       "      <td>18294</td>\n",
       "    </tr>\n",
       "    <tr>\n",
       "      <th>2</th>\n",
       "      <td>2008-10-01</td>\n",
       "      <td>27171</td>\n",
       "    </tr>\n",
       "    <tr>\n",
       "      <th>3</th>\n",
       "      <td>2008-09-01</td>\n",
       "      <td>24870</td>\n",
       "    </tr>\n",
       "    <tr>\n",
       "      <th>4</th>\n",
       "      <td>2008-08-01</td>\n",
       "      <td>32</td>\n",
       "    </tr>\n",
       "  </tbody>\n",
       "</table>\n",
       "</div>"
      ],
      "text/plain": [
       "  date_month  count\n",
       "0 2008-12-01  17641\n",
       "1 2008-11-01  18294\n",
       "2 2008-10-01  27171\n",
       "3 2008-09-01  24870\n",
       "4 2008-08-01     32"
      ]
     },
     "metadata": {},
     "output_type": "display_data"
    }
   ],
   "source": [
    "query = '''\n",
    "WITH users_sept_2008 AS (SELECT id\n",
    "                        FROM stackoverflow.users\n",
    "                        WHERE DATE_TRUNC('month',creation_date) = '2008-09-01'\n",
    "                        ),\n",
    "    posts_dec_2008 AS (SELECT *\n",
    "                    FROM stackoverflow.posts\n",
    "                    WHERE DATE_TRUNC('month',creation_date) = '2008-12-01'\n",
    "                    ),\n",
    "\n",
    "    users_ AS (SELECT DISTINCT(user_id)\n",
    "                FROM posts_dec_2008 as pd INNER JOIN users_sept_2008 as us ON pd.user_id = us.id\n",
    "                )\n",
    "\n",
    "SELECT DATE_TRUNC('month',creation_date) AS date_month,\n",
    "        COUNT(id)\n",
    "FROM stackoverflow.posts\n",
    "WHERE user_id IN (SELECT user_id FROM users_)\n",
    "GROUP BY DATE_TRUNC('month',creation_date)\n",
    "ORDER BY date_month DESC\n",
    "\n",
    "'''\n",
    "\n",
    "df = pd.read_sql_query(query, con=engine) \n",
    "display(df)"
   ]
  },
  {
   "cell_type": "markdown",
   "metadata": {
    "id": "Vnxn9DVHDWKx"
   },
   "source": [
    "Изучите данные: есть ли в них аномалии? Предположите, почему могли появиться аномальные значения."
   ]
  },
  {
   "cell_type": "markdown",
   "metadata": {
    "id": "MMVIz4yMlKpN"
   },
   "source": [
    "## Ответ:\n",
    "\n",
    "* Не должно быть постов в августе 2008 года, т.е. раньше, чем зарегистрировались пользователи.\n",
    "* Проблема, скорее всего, в дате создания поста `stackoverflow.posts.creation_date`. Техническая проблема?"
   ]
  },
  {
   "cell_type": "markdown",
   "metadata": {
    "id": "5Pcizm0DDWKz"
   },
   "source": [
    "# Задание 4"
   ]
  },
  {
   "cell_type": "markdown",
   "metadata": {
    "id": "KUZPF6vHDWKz"
   },
   "source": [
    "Используя данные о постах, выведите несколько полей:\n",
    "\n",
    "- идентификатор пользователя, который написал пост;\n",
    "- дата создания поста;\n",
    "- количество просмотров у текущего поста;\n",
    "- сумму просмотров постов автора с накоплением.\n",
    "\n",
    "Данные в таблице должны быть отсортированы по возрастанию идентификаторов пользователей, а данные об одном и том же пользователе — по возрастанию даты создания поста."
   ]
  },
  {
   "cell_type": "markdown",
   "metadata": {
    "id": "ZpsTUVDYDWK0"
   },
   "source": [
    "| user_id | creation_date | views_count | cumulative_count |\n",
    "| ------ | -------------- | ----------- | ---------------- |\n",
    "| 1 | 2008-07-31 23:41:00  | 480476   | 480476  |\n",
    "| 1 | 2008-07-31 23:55:38  | 136033 | 616509  | \n",
    "| 1 | 2008-07-31 23:56:41  | 0 |  616509  |\n",
    "| ... | ... | ... | ... |\n",
    "| 2 | 2008-07-31 23:56:41 | 79087  | 79087 |\n",
    "| 2 | 2008-08-01 05:09:56 | 65443 | 144530 |\n",
    "| ... | ...  | ...  | ...  |"
   ]
  },
  {
   "cell_type": "code",
   "execution_count": 13,
   "metadata": {
    "id": "hDoJhMzfDWK0"
   },
   "outputs": [
    {
     "data": {
      "text/html": [
       "<div>\n",
       "<style scoped>\n",
       "    .dataframe tbody tr th:only-of-type {\n",
       "        vertical-align: middle;\n",
       "    }\n",
       "\n",
       "    .dataframe tbody tr th {\n",
       "        vertical-align: top;\n",
       "    }\n",
       "\n",
       "    .dataframe thead th {\n",
       "        text-align: right;\n",
       "    }\n",
       "</style>\n",
       "<table border=\"1\" class=\"dataframe\">\n",
       "  <thead>\n",
       "    <tr style=\"text-align: right;\">\n",
       "      <th></th>\n",
       "      <th>user_id</th>\n",
       "      <th>creation_date</th>\n",
       "      <th>views_count</th>\n",
       "      <th>cumulative_count</th>\n",
       "    </tr>\n",
       "  </thead>\n",
       "  <tbody>\n",
       "    <tr>\n",
       "      <th>0</th>\n",
       "      <td>1</td>\n",
       "      <td>2008-07-31 23:41:00</td>\n",
       "      <td>480476</td>\n",
       "      <td>480476</td>\n",
       "    </tr>\n",
       "    <tr>\n",
       "      <th>1</th>\n",
       "      <td>1</td>\n",
       "      <td>2008-07-31 23:55:38</td>\n",
       "      <td>136033</td>\n",
       "      <td>616509</td>\n",
       "    </tr>\n",
       "    <tr>\n",
       "      <th>2</th>\n",
       "      <td>1</td>\n",
       "      <td>2008-07-31 23:56:41</td>\n",
       "      <td>0</td>\n",
       "      <td>616509</td>\n",
       "    </tr>\n",
       "    <tr>\n",
       "      <th>3</th>\n",
       "      <td>1</td>\n",
       "      <td>2008-08-04 02:45:08</td>\n",
       "      <td>0</td>\n",
       "      <td>616509</td>\n",
       "    </tr>\n",
       "    <tr>\n",
       "      <th>4</th>\n",
       "      <td>1</td>\n",
       "      <td>2008-08-04 04:31:03</td>\n",
       "      <td>0</td>\n",
       "      <td>616509</td>\n",
       "    </tr>\n",
       "    <tr>\n",
       "      <th>...</th>\n",
       "      <td>...</td>\n",
       "      <td>...</td>\n",
       "      <td>...</td>\n",
       "      <td>...</td>\n",
       "    </tr>\n",
       "    <tr>\n",
       "      <th>243791</th>\n",
       "      <td>5696608</td>\n",
       "      <td>2008-12-23 16:00:37</td>\n",
       "      <td>0</td>\n",
       "      <td>2804</td>\n",
       "    </tr>\n",
       "    <tr>\n",
       "      <th>243792</th>\n",
       "      <td>5696608</td>\n",
       "      <td>2008-12-23 17:35:09</td>\n",
       "      <td>0</td>\n",
       "      <td>2804</td>\n",
       "    </tr>\n",
       "    <tr>\n",
       "      <th>243793</th>\n",
       "      <td>5696608</td>\n",
       "      <td>2008-12-24 01:02:48</td>\n",
       "      <td>0</td>\n",
       "      <td>2804</td>\n",
       "    </tr>\n",
       "    <tr>\n",
       "      <th>243794</th>\n",
       "      <td>5696608</td>\n",
       "      <td>2008-12-30 14:34:45</td>\n",
       "      <td>0</td>\n",
       "      <td>2804</td>\n",
       "    </tr>\n",
       "    <tr>\n",
       "      <th>243795</th>\n",
       "      <td>5696608</td>\n",
       "      <td>2008-12-30 16:32:12</td>\n",
       "      <td>0</td>\n",
       "      <td>2804</td>\n",
       "    </tr>\n",
       "  </tbody>\n",
       "</table>\n",
       "<p>243796 rows × 4 columns</p>\n",
       "</div>"
      ],
      "text/plain": [
       "        user_id       creation_date  views_count  cumulative_count\n",
       "0             1 2008-07-31 23:41:00       480476            480476\n",
       "1             1 2008-07-31 23:55:38       136033            616509\n",
       "2             1 2008-07-31 23:56:41            0            616509\n",
       "3             1 2008-08-04 02:45:08            0            616509\n",
       "4             1 2008-08-04 04:31:03            0            616509\n",
       "...         ...                 ...          ...               ...\n",
       "243791  5696608 2008-12-23 16:00:37            0              2804\n",
       "243792  5696608 2008-12-23 17:35:09            0              2804\n",
       "243793  5696608 2008-12-24 01:02:48            0              2804\n",
       "243794  5696608 2008-12-30 14:34:45            0              2804\n",
       "243795  5696608 2008-12-30 16:32:12            0              2804\n",
       "\n",
       "[243796 rows x 4 columns]"
      ]
     },
     "metadata": {},
     "output_type": "display_data"
    }
   ],
   "source": [
    "query = '''\n",
    "SELECT user_id,\n",
    "    creation_date,\n",
    "    views_count,\n",
    "    SUM(views_count) OVER (PARTITION BY user_id ORDER BY creation_date) as cumulative_count\n",
    "FROM stackoverflow.posts\n",
    "ORDER BY user_id, creation_date\n",
    "'''\n",
    "\n",
    "df = pd.read_sql_query(query, con=engine) \n",
    "display(df)"
   ]
  },
  {
   "cell_type": "markdown",
   "metadata": {
    "id": "N0kHRHvIDWK2"
   },
   "source": [
    "# Задание 5"
   ]
  },
  {
   "cell_type": "markdown",
   "metadata": {
    "id": "gBgvmPtODWK2"
   },
   "source": [
    "Найдите среднее количество постов пользователей в день за август 2008 года. Отберите данные о пользователях, которые опубликовали больше 120 постов за август. Дни без публикаций не учитывайте. \n",
    "\n",
    "Отсортируйте результат по возрастанию среднего количества постов. Значения можно не округлять."
   ]
  },
  {
   "cell_type": "markdown",
   "metadata": {
    "id": "nfzR08BODWK3"
   },
   "source": [
    "| user_id | avg_daily |\n",
    "| ------- | --------- |\n",
    "| 116     | 4.777778  |\n",
    "| 234     | 5.208333  |\n",
    "| ...     | ... |"
   ]
  },
  {
   "cell_type": "markdown",
   "metadata": {},
   "source": [
    "<!-- 1. Создадим временную таблицу с постами, опубликованными в августе.\n",
    "2. Создадим временную таблицу с айди пользователей, которые есть в таблице выше и имеют больше 120 постов.\n",
    "3. Создадим временную таблицу с постами \n",
    "    * за август 2008 года, \n",
    "    * отфильтруем по айди пользователей по таблице 2,\n",
    "    * возьмем айди пользователя, день месяца и кол-во постов в этот день -->"
   ]
  },
  {
   "cell_type": "code",
   "execution_count": 14,
   "metadata": {
    "id": "YFyPNz5GDWK3"
   },
   "outputs": [
    {
     "data": {
      "text/html": [
       "<div>\n",
       "<style scoped>\n",
       "    .dataframe tbody tr th:only-of-type {\n",
       "        vertical-align: middle;\n",
       "    }\n",
       "\n",
       "    .dataframe tbody tr th {\n",
       "        vertical-align: top;\n",
       "    }\n",
       "\n",
       "    .dataframe thead th {\n",
       "        text-align: right;\n",
       "    }\n",
       "</style>\n",
       "<table border=\"1\" class=\"dataframe\">\n",
       "  <thead>\n",
       "    <tr style=\"text-align: right;\">\n",
       "      <th></th>\n",
       "      <th>user_id</th>\n",
       "      <th>avg_posts</th>\n",
       "    </tr>\n",
       "  </thead>\n",
       "  <tbody>\n",
       "    <tr>\n",
       "      <th>0</th>\n",
       "      <td>116</td>\n",
       "      <td>4.777778</td>\n",
       "    </tr>\n",
       "    <tr>\n",
       "      <th>1</th>\n",
       "      <td>234</td>\n",
       "      <td>5.208333</td>\n",
       "    </tr>\n",
       "    <tr>\n",
       "      <th>2</th>\n",
       "      <td>91</td>\n",
       "      <td>5.681818</td>\n",
       "    </tr>\n",
       "    <tr>\n",
       "      <th>3</th>\n",
       "      <td>905</td>\n",
       "      <td>7.000000</td>\n",
       "    </tr>\n",
       "    <tr>\n",
       "      <th>4</th>\n",
       "      <td>383</td>\n",
       "      <td>7.277778</td>\n",
       "    </tr>\n",
       "  </tbody>\n",
       "</table>\n",
       "</div>"
      ],
      "text/plain": [
       "   user_id  avg_posts\n",
       "0      116   4.777778\n",
       "1      234   5.208333\n",
       "2       91   5.681818\n",
       "3      905   7.000000\n",
       "4      383   7.277778"
      ]
     },
     "metadata": {},
     "output_type": "display_data"
    }
   ],
   "source": [
    "query = '''\n",
    "WITH posts_aug AS (SELECT DISTINCT(user_id),\n",
    "                            COUNT(id) OVER (PARTITION BY user_id) AS posts_count\n",
    "                    FROM stackoverflow.posts\n",
    "                    WHERE DATE_TRUNC('month',creation_date) = '2008-08-01'\n",
    "                    ),\n",
    "                    \n",
    "    users_ AS (SELECT user_id\n",
    "                FROM posts_aug\n",
    "                WHERE posts_count > 120\n",
    "                ),\n",
    "\n",
    "    temp_ AS (SELECT --*,\n",
    "                    user_id,\n",
    "                    EXTRACT(DAY from creation_date) AS aug_day,\n",
    "                    COUNT(ID) OVER (PARTITION BY user_id, EXTRACT(DAY from creation_date)) AS posts_count_by_day,\n",
    "                    ROW_NUMBER() OVER (PARTITION BY user_id, EXTRACT(DAY from creation_date)) AS row_n\n",
    "                FROM stackoverflow.posts\n",
    "                WHERE user_id IN (SELECT user_id FROM users_)\n",
    "                    AND DATE_TRUNC('month',creation_date) = '2008-08-01'\n",
    "                )\n",
    "SELECT user_id,\n",
    "    AVG(posts_count_by_day) as avg_posts\n",
    "FROM temp_       \n",
    "WHERE row_n = 1\n",
    "GROUP BY user_id\n",
    "ORDER BY avg_posts\n",
    "'''\n",
    "\n",
    "df = pd.read_sql_query(query, con=engine) \n",
    "display(df)"
   ]
  },
  {
   "cell_type": "markdown",
   "metadata": {
    "id": "EQ0dcFH4DWK5"
   },
   "source": [
    "# Задание 6"
   ]
  },
  {
   "cell_type": "markdown",
   "metadata": {
    "id": "c7flfg_hDWK5"
   },
   "source": [
    "Сколько в среднем дней в период с 1 по 7 декабря 2008 года пользователи взаимодействовали с платформой? Для каждого пользователя отберите дни, в которые он или она опубликовали хотя бы один пост. Нужно получить одно целое число — не забудьте округлить результат. "
   ]
  },
  {
   "cell_type": "markdown",
   "metadata": {
    "id": "RC1Ibzm9DWK6"
   },
   "source": [
    "| result |\n",
    "| -----  |\n",
    "| <целое число> |"
   ]
  },
  {
   "cell_type": "code",
   "execution_count": 15,
   "metadata": {
    "id": "kZ7LXTr6DWK6"
   },
   "outputs": [
    {
     "data": {
      "text/html": [
       "<div>\n",
       "<style scoped>\n",
       "    .dataframe tbody tr th:only-of-type {\n",
       "        vertical-align: middle;\n",
       "    }\n",
       "\n",
       "    .dataframe tbody tr th {\n",
       "        vertical-align: top;\n",
       "    }\n",
       "\n",
       "    .dataframe thead th {\n",
       "        text-align: right;\n",
       "    }\n",
       "</style>\n",
       "<table border=\"1\" class=\"dataframe\">\n",
       "  <thead>\n",
       "    <tr style=\"text-align: right;\">\n",
       "      <th></th>\n",
       "      <th>round</th>\n",
       "    </tr>\n",
       "  </thead>\n",
       "  <tbody>\n",
       "    <tr>\n",
       "      <th>0</th>\n",
       "      <td>2.0</td>\n",
       "    </tr>\n",
       "  </tbody>\n",
       "</table>\n",
       "</div>"
      ],
      "text/plain": [
       "   round\n",
       "0    2.0"
      ]
     },
     "metadata": {},
     "output_type": "display_data"
    }
   ],
   "source": [
    "query = '''\n",
    "WITH temp_ AS (SELECT user_id,\n",
    "                        COUNT(DISTINCT(DATE_TRUNC('day',creation_date)))\n",
    "                FROM stackoverflow.posts\n",
    "                WHERE DATE_TRUNC('day',creation_date) BETWEEN '2008-12-1' AND '2008-12-7'\n",
    "                GROUP BY user_id\n",
    "                )\n",
    "SELECT ROUND(AVG(count))\n",
    "FROM temp_\n",
    "\n",
    "'''\n",
    "\n",
    "df = pd.read_sql_query(query, con=engine) \n",
    "display(df)"
   ]
  },
  {
   "cell_type": "markdown",
   "metadata": {
    "id": "UJFtNNggDWK7"
   },
   "source": [
    "Проанализируйте итоговую таблицу — какие выводы можно сделать?"
   ]
  },
  {
   "cell_type": "markdown",
   "metadata": {
    "id": "LfUuYz-1DWK8"
   },
   "source": [
    "# Ответ:\n",
    "\n",
    "* С 1 по 7 декабря 2008 года пользователи в среднем проявляли активность в 2х днях."
   ]
  },
  {
   "cell_type": "markdown",
   "metadata": {
    "id": "wfOmqmfLDWK8"
   },
   "source": [
    "# Задание 7"
   ]
  },
  {
   "cell_type": "markdown",
   "metadata": {
    "id": "X4ARQimADWK9"
   },
   "source": [
    "Выведите историю активности каждого пользователя в таком виде: идентификатор пользователя, дата публикации поста. Отсортируйте вывод по возрастанию идентификаторов пользователей, а для каждого пользователя — по возрастанию даты публикации.\n",
    "\n",
    "Добавьте в таблицу новое поле: для каждого поста в нём будет указано название месяца предпоследней публикации пользователя относительно текущей. Если такой публикации нет, укажите `NULL`.  Python автоматически поменяет `NULL` на `None`, но дополнительно преобразовывать значения `None` вам не нужно.\n",
    "\n",
    "Посмотрите внимательно на образец таблицы: для первых двух постов предпоследней публикации нет, но, начиная с третьего поста, в новое поле входит нужный месяц. Для следующего пользователя в первые две записи поля `second_last_month` тоже войдёт `NULL`."
   ]
  },
  {
   "cell_type": "markdown",
   "metadata": {
    "id": "IGPjRP01DWK9"
   },
   "source": [
    "| user_id | creation_date | second_last_month |\n",
    "| ------- | ------------- | ----------------- |\n",
    "| 1       | 2008-07-31 23:41:00 | None |\n",
    "| 1       | 2008-07-31 23:55:38 | None |\n",
    "| 1       | 2008-07-31 23:56:41 | July |\n",
    "| 1       | 2008-08-04 02:45:08 | July |\n",
    "| 1       | 2008-08-04 04:31:03 | July |\n",
    "| 1       | 2008-08-04 08:04:42 | August |\n",
    "| ... | ... | ... |"
   ]
  },
  {
   "cell_type": "markdown",
   "metadata": {},
   "source": [
    "В качестве оконной функции используем `LAG()` на 2 смещения по дате создания поста `creation_date`, которую одновременно переводим в названия месяца строкой. А само окно определяем по `user_id` и сортируем по `creation_date`.\n",
    "\n",
    "Так получается мы берем название месяца из даты предпоследнего поста."
   ]
  },
  {
   "cell_type": "code",
   "execution_count": 16,
   "metadata": {
    "id": "HzI1vhaMDWK-"
   },
   "outputs": [
    {
     "data": {
      "text/html": [
       "<div>\n",
       "<style scoped>\n",
       "    .dataframe tbody tr th:only-of-type {\n",
       "        vertical-align: middle;\n",
       "    }\n",
       "\n",
       "    .dataframe tbody tr th {\n",
       "        vertical-align: top;\n",
       "    }\n",
       "\n",
       "    .dataframe thead th {\n",
       "        text-align: right;\n",
       "    }\n",
       "</style>\n",
       "<table border=\"1\" class=\"dataframe\">\n",
       "  <thead>\n",
       "    <tr style=\"text-align: right;\">\n",
       "      <th></th>\n",
       "      <th>user_id</th>\n",
       "      <th>creation_date</th>\n",
       "      <th>second_last_month</th>\n",
       "    </tr>\n",
       "  </thead>\n",
       "  <tbody>\n",
       "    <tr>\n",
       "      <th>0</th>\n",
       "      <td>1</td>\n",
       "      <td>2008-07-31 23:41:00</td>\n",
       "      <td>None</td>\n",
       "    </tr>\n",
       "    <tr>\n",
       "      <th>1</th>\n",
       "      <td>1</td>\n",
       "      <td>2008-07-31 23:55:38</td>\n",
       "      <td>None</td>\n",
       "    </tr>\n",
       "    <tr>\n",
       "      <th>2</th>\n",
       "      <td>1</td>\n",
       "      <td>2008-07-31 23:56:41</td>\n",
       "      <td>July</td>\n",
       "    </tr>\n",
       "    <tr>\n",
       "      <th>3</th>\n",
       "      <td>1</td>\n",
       "      <td>2008-08-04 02:45:08</td>\n",
       "      <td>July</td>\n",
       "    </tr>\n",
       "    <tr>\n",
       "      <th>4</th>\n",
       "      <td>1</td>\n",
       "      <td>2008-08-04 04:31:03</td>\n",
       "      <td>July</td>\n",
       "    </tr>\n",
       "    <tr>\n",
       "      <th>...</th>\n",
       "      <td>...</td>\n",
       "      <td>...</td>\n",
       "      <td>...</td>\n",
       "    </tr>\n",
       "    <tr>\n",
       "      <th>243791</th>\n",
       "      <td>5696608</td>\n",
       "      <td>2008-12-23 16:00:37</td>\n",
       "      <td>December</td>\n",
       "    </tr>\n",
       "    <tr>\n",
       "      <th>243792</th>\n",
       "      <td>5696608</td>\n",
       "      <td>2008-12-23 17:35:09</td>\n",
       "      <td>December</td>\n",
       "    </tr>\n",
       "    <tr>\n",
       "      <th>243793</th>\n",
       "      <td>5696608</td>\n",
       "      <td>2008-12-24 01:02:48</td>\n",
       "      <td>December</td>\n",
       "    </tr>\n",
       "    <tr>\n",
       "      <th>243794</th>\n",
       "      <td>5696608</td>\n",
       "      <td>2008-12-30 14:34:45</td>\n",
       "      <td>December</td>\n",
       "    </tr>\n",
       "    <tr>\n",
       "      <th>243795</th>\n",
       "      <td>5696608</td>\n",
       "      <td>2008-12-30 16:32:12</td>\n",
       "      <td>December</td>\n",
       "    </tr>\n",
       "  </tbody>\n",
       "</table>\n",
       "<p>243796 rows × 3 columns</p>\n",
       "</div>"
      ],
      "text/plain": [
       "        user_id       creation_date second_last_month\n",
       "0             1 2008-07-31 23:41:00              None\n",
       "1             1 2008-07-31 23:55:38              None\n",
       "2             1 2008-07-31 23:56:41         July     \n",
       "3             1 2008-08-04 02:45:08         July     \n",
       "4             1 2008-08-04 04:31:03         July     \n",
       "...         ...                 ...               ...\n",
       "243791  5696608 2008-12-23 16:00:37         December \n",
       "243792  5696608 2008-12-23 17:35:09         December \n",
       "243793  5696608 2008-12-24 01:02:48         December \n",
       "243794  5696608 2008-12-30 14:34:45         December \n",
       "243795  5696608 2008-12-30 16:32:12         December \n",
       "\n",
       "[243796 rows x 3 columns]"
      ]
     },
     "metadata": {},
     "output_type": "display_data"
    }
   ],
   "source": [
    "query = '''\n",
    "SELECT user_id,\n",
    "    creation_date,\n",
    "    LAG(TO_CHAR(creation_date,'Month'),2) OVER (PARTITION BY user_id ORDER BY creation_date) as second_last_month\n",
    "FROM stackoverflow.posts\n",
    "ORDER BY user_id, creation_date\n",
    "'''\n",
    "\n",
    "df = pd.read_sql_query(query, con=engine) \n",
    "display(df)"
   ]
  },
  {
   "cell_type": "code",
   "execution_count": 17,
   "metadata": {},
   "outputs": [
    {
     "data": {
      "text/html": [
       "<div>\n",
       "<style scoped>\n",
       "    .dataframe tbody tr th:only-of-type {\n",
       "        vertical-align: middle;\n",
       "    }\n",
       "\n",
       "    .dataframe tbody tr th {\n",
       "        vertical-align: top;\n",
       "    }\n",
       "\n",
       "    .dataframe thead th {\n",
       "        text-align: right;\n",
       "    }\n",
       "</style>\n",
       "<table border=\"1\" class=\"dataframe\">\n",
       "  <thead>\n",
       "    <tr style=\"text-align: right;\">\n",
       "      <th></th>\n",
       "      <th>user_id</th>\n",
       "      <th>creation_date</th>\n",
       "      <th>second_last_month</th>\n",
       "    </tr>\n",
       "  </thead>\n",
       "  <tbody>\n",
       "    <tr>\n",
       "      <th>70</th>\n",
       "      <td>2</td>\n",
       "      <td>2008-08-01 04:59:34</td>\n",
       "      <td>None</td>\n",
       "    </tr>\n",
       "    <tr>\n",
       "      <th>71</th>\n",
       "      <td>2</td>\n",
       "      <td>2008-08-01 05:09:56</td>\n",
       "      <td>None</td>\n",
       "    </tr>\n",
       "    <tr>\n",
       "      <th>72</th>\n",
       "      <td>2</td>\n",
       "      <td>2008-08-04 05:51:57</td>\n",
       "      <td>August</td>\n",
       "    </tr>\n",
       "    <tr>\n",
       "      <th>73</th>\n",
       "      <td>2</td>\n",
       "      <td>2008-08-21 20:53:51</td>\n",
       "      <td>August</td>\n",
       "    </tr>\n",
       "    <tr>\n",
       "      <th>74</th>\n",
       "      <td>2</td>\n",
       "      <td>2008-10-13 23:46:09</td>\n",
       "      <td>August</td>\n",
       "    </tr>\n",
       "    <tr>\n",
       "      <th>75</th>\n",
       "      <td>2</td>\n",
       "      <td>2008-12-15 03:59:56</td>\n",
       "      <td>August</td>\n",
       "    </tr>\n",
       "  </tbody>\n",
       "</table>\n",
       "</div>"
      ],
      "text/plain": [
       "    user_id       creation_date second_last_month\n",
       "70        2 2008-08-01 04:59:34              None\n",
       "71        2 2008-08-01 05:09:56              None\n",
       "72        2 2008-08-04 05:51:57         August   \n",
       "73        2 2008-08-21 20:53:51         August   \n",
       "74        2 2008-10-13 23:46:09         August   \n",
       "75        2 2008-12-15 03:59:56         August   "
      ]
     },
     "execution_count": 17,
     "metadata": {},
     "output_type": "execute_result"
    }
   ],
   "source": [
    "df[df['user_id'] == 2]"
   ]
  },
  {
   "cell_type": "markdown",
   "metadata": {
    "id": "tf9qq2yzDWK_"
   },
   "source": [
    "# Задание 8"
   ]
  },
  {
   "cell_type": "markdown",
   "metadata": {
    "id": "gfwLVXBYDWLA"
   },
   "source": [
    "Рассчитайте аналог Retention Rate по месяцам для пользователей StackOverflow. Объедините пользователей в когорты по месяцу их первого поста. Возвращение определяйте по наличию поста в текущем месяце. "
   ]
  },
  {
   "cell_type": "markdown",
   "metadata": {
    "id": "kN2ic39WlKpl"
   },
   "source": [
    "| cohort_dt | session_date | users_cnt | cohort_users_cnt | retention_rate |\n",
    "| --- | --- | --- | --- | --- |\n",
    "| 2008-07-01 00:00:00 | 2008-07-01 00:00:00 | 3 | 3 | 100 |\n",
    "| 2008-07-01 00:00:00 | 2008-08-01 00:00:00 | 2 | 3 | 66,67 |\n",
    "| 2008-07-01 00:00:00 | 2008-09-01 00:00:00 | 1 | 3 | 33,33 |\n",
    "| 2008-07-01 00:00:00 | 2008-10-01 00:00:00 | 2 | 3 | 66,67 |\n",
    "| 2008-07-01 00:00:00 | 2008-11-01 00:00:00 | 1 | 3 | 33,33 |\n",
    "| 2008-07-01 00:00:00 | 2008-12-01 00:00:00 | 2 | 3 | 66,67 |\n",
    "| 2008-08-01 00:00:00 | 2008-08-01 00:00:00 | 2151 | 2151 | 100 |\n",
    "| ... | ... | ... | ... | ... |"
   ]
  },
  {
   "cell_type": "code",
   "execution_count": 18,
   "metadata": {
    "id": "LUgFmwmTDWLB"
   },
   "outputs": [
    {
     "data": {
      "text/html": [
       "<div>\n",
       "<style scoped>\n",
       "    .dataframe tbody tr th:only-of-type {\n",
       "        vertical-align: middle;\n",
       "    }\n",
       "\n",
       "    .dataframe tbody tr th {\n",
       "        vertical-align: top;\n",
       "    }\n",
       "\n",
       "    .dataframe thead th {\n",
       "        text-align: right;\n",
       "    }\n",
       "</style>\n",
       "<table border=\"1\" class=\"dataframe\">\n",
       "  <thead>\n",
       "    <tr style=\"text-align: right;\">\n",
       "      <th></th>\n",
       "      <th>cohort_month</th>\n",
       "      <th>session_month</th>\n",
       "      <th>users_cnt</th>\n",
       "      <th>cohort_users_cnt</th>\n",
       "      <th>retention_rate</th>\n",
       "    </tr>\n",
       "  </thead>\n",
       "  <tbody>\n",
       "    <tr>\n",
       "      <th>0</th>\n",
       "      <td>2008-07-01</td>\n",
       "      <td>2008-07-01</td>\n",
       "      <td>3</td>\n",
       "      <td>3</td>\n",
       "      <td>100.00</td>\n",
       "    </tr>\n",
       "    <tr>\n",
       "      <th>1</th>\n",
       "      <td>2008-07-01</td>\n",
       "      <td>2008-08-01</td>\n",
       "      <td>2</td>\n",
       "      <td>3</td>\n",
       "      <td>66.67</td>\n",
       "    </tr>\n",
       "    <tr>\n",
       "      <th>2</th>\n",
       "      <td>2008-07-01</td>\n",
       "      <td>2008-09-01</td>\n",
       "      <td>1</td>\n",
       "      <td>3</td>\n",
       "      <td>33.33</td>\n",
       "    </tr>\n",
       "    <tr>\n",
       "      <th>3</th>\n",
       "      <td>2008-07-01</td>\n",
       "      <td>2008-10-01</td>\n",
       "      <td>2</td>\n",
       "      <td>3</td>\n",
       "      <td>66.67</td>\n",
       "    </tr>\n",
       "    <tr>\n",
       "      <th>4</th>\n",
       "      <td>2008-07-01</td>\n",
       "      <td>2008-11-01</td>\n",
       "      <td>1</td>\n",
       "      <td>3</td>\n",
       "      <td>33.33</td>\n",
       "    </tr>\n",
       "    <tr>\n",
       "      <th>5</th>\n",
       "      <td>2008-07-01</td>\n",
       "      <td>2008-12-01</td>\n",
       "      <td>2</td>\n",
       "      <td>3</td>\n",
       "      <td>66.67</td>\n",
       "    </tr>\n",
       "    <tr>\n",
       "      <th>6</th>\n",
       "      <td>2008-08-01</td>\n",
       "      <td>2008-08-01</td>\n",
       "      <td>2151</td>\n",
       "      <td>2151</td>\n",
       "      <td>100.00</td>\n",
       "    </tr>\n",
       "    <tr>\n",
       "      <th>7</th>\n",
       "      <td>2008-08-01</td>\n",
       "      <td>2008-09-01</td>\n",
       "      <td>1571</td>\n",
       "      <td>2151</td>\n",
       "      <td>73.04</td>\n",
       "    </tr>\n",
       "    <tr>\n",
       "      <th>8</th>\n",
       "      <td>2008-08-01</td>\n",
       "      <td>2008-10-01</td>\n",
       "      <td>1275</td>\n",
       "      <td>2151</td>\n",
       "      <td>59.27</td>\n",
       "    </tr>\n",
       "    <tr>\n",
       "      <th>9</th>\n",
       "      <td>2008-08-01</td>\n",
       "      <td>2008-11-01</td>\n",
       "      <td>1050</td>\n",
       "      <td>2151</td>\n",
       "      <td>48.81</td>\n",
       "    </tr>\n",
       "    <tr>\n",
       "      <th>10</th>\n",
       "      <td>2008-08-01</td>\n",
       "      <td>2008-12-01</td>\n",
       "      <td>894</td>\n",
       "      <td>2151</td>\n",
       "      <td>41.56</td>\n",
       "    </tr>\n",
       "    <tr>\n",
       "      <th>11</th>\n",
       "      <td>2008-09-01</td>\n",
       "      <td>2008-09-01</td>\n",
       "      <td>7678</td>\n",
       "      <td>7678</td>\n",
       "      <td>100.00</td>\n",
       "    </tr>\n",
       "    <tr>\n",
       "      <th>12</th>\n",
       "      <td>2008-09-01</td>\n",
       "      <td>2008-10-01</td>\n",
       "      <td>4132</td>\n",
       "      <td>7678</td>\n",
       "      <td>53.82</td>\n",
       "    </tr>\n",
       "    <tr>\n",
       "      <th>13</th>\n",
       "      <td>2008-09-01</td>\n",
       "      <td>2008-11-01</td>\n",
       "      <td>2966</td>\n",
       "      <td>7678</td>\n",
       "      <td>38.63</td>\n",
       "    </tr>\n",
       "    <tr>\n",
       "      <th>14</th>\n",
       "      <td>2008-09-01</td>\n",
       "      <td>2008-12-01</td>\n",
       "      <td>2500</td>\n",
       "      <td>7678</td>\n",
       "      <td>32.56</td>\n",
       "    </tr>\n",
       "    <tr>\n",
       "      <th>15</th>\n",
       "      <td>2008-10-01</td>\n",
       "      <td>2008-10-01</td>\n",
       "      <td>3629</td>\n",
       "      <td>3629</td>\n",
       "      <td>100.00</td>\n",
       "    </tr>\n",
       "    <tr>\n",
       "      <th>16</th>\n",
       "      <td>2008-10-01</td>\n",
       "      <td>2008-11-01</td>\n",
       "      <td>1640</td>\n",
       "      <td>3629</td>\n",
       "      <td>45.19</td>\n",
       "    </tr>\n",
       "    <tr>\n",
       "      <th>17</th>\n",
       "      <td>2008-10-01</td>\n",
       "      <td>2008-12-01</td>\n",
       "      <td>1221</td>\n",
       "      <td>3629</td>\n",
       "      <td>33.65</td>\n",
       "    </tr>\n",
       "    <tr>\n",
       "      <th>18</th>\n",
       "      <td>2008-11-01</td>\n",
       "      <td>2008-11-01</td>\n",
       "      <td>2852</td>\n",
       "      <td>2852</td>\n",
       "      <td>100.00</td>\n",
       "    </tr>\n",
       "    <tr>\n",
       "      <th>19</th>\n",
       "      <td>2008-11-01</td>\n",
       "      <td>2008-12-01</td>\n",
       "      <td>1151</td>\n",
       "      <td>2852</td>\n",
       "      <td>40.36</td>\n",
       "    </tr>\n",
       "    <tr>\n",
       "      <th>20</th>\n",
       "      <td>2008-12-01</td>\n",
       "      <td>2008-12-01</td>\n",
       "      <td>2536</td>\n",
       "      <td>2536</td>\n",
       "      <td>100.00</td>\n",
       "    </tr>\n",
       "  </tbody>\n",
       "</table>\n",
       "</div>"
      ],
      "text/plain": [
       "   cohort_month session_month  users_cnt  cohort_users_cnt  retention_rate\n",
       "0    2008-07-01    2008-07-01          3                 3          100.00\n",
       "1    2008-07-01    2008-08-01          2                 3           66.67\n",
       "2    2008-07-01    2008-09-01          1                 3           33.33\n",
       "3    2008-07-01    2008-10-01          2                 3           66.67\n",
       "4    2008-07-01    2008-11-01          1                 3           33.33\n",
       "5    2008-07-01    2008-12-01          2                 3           66.67\n",
       "6    2008-08-01    2008-08-01       2151              2151          100.00\n",
       "7    2008-08-01    2008-09-01       1571              2151           73.04\n",
       "8    2008-08-01    2008-10-01       1275              2151           59.27\n",
       "9    2008-08-01    2008-11-01       1050              2151           48.81\n",
       "10   2008-08-01    2008-12-01        894              2151           41.56\n",
       "11   2008-09-01    2008-09-01       7678              7678          100.00\n",
       "12   2008-09-01    2008-10-01       4132              7678           53.82\n",
       "13   2008-09-01    2008-11-01       2966              7678           38.63\n",
       "14   2008-09-01    2008-12-01       2500              7678           32.56\n",
       "15   2008-10-01    2008-10-01       3629              3629          100.00\n",
       "16   2008-10-01    2008-11-01       1640              3629           45.19\n",
       "17   2008-10-01    2008-12-01       1221              3629           33.65\n",
       "18   2008-11-01    2008-11-01       2852              2852          100.00\n",
       "19   2008-11-01    2008-12-01       1151              2852           40.36\n",
       "20   2008-12-01    2008-12-01       2536              2536          100.00"
      ]
     },
     "metadata": {},
     "output_type": "display_data"
    }
   ],
   "source": [
    "query = '''\n",
    "WITH first_post_date AS (SELECT user_id,\n",
    "                                MIN(DATE_TRUNC('month',creation_date)) as cohort_month\n",
    "                        FROM stackoverflow.posts\n",
    "                        GROUP BY user_id\n",
    "                        ),\n",
    "    profile AS (SELECT *,\n",
    "                    COUNT(*) OVER (PARTITION BY cohort_month) as cohort_users_cnt\n",
    "                FROM first_post_date\n",
    "                ),\n",
    "    sessions AS (SELECT user_id,\n",
    "                    DATE_TRUNC('month',creation_date) as session_month\n",
    "                FROM stackoverflow.posts\n",
    "                GROUP BY 1, 2\n",
    "                )\n",
    "SELECT p.cohort_month,\n",
    "    s.session_month,\n",
    "    COUNT(p.user_id) AS users_cnt,\n",
    "    cohort_users_cnt,\n",
    "    ROUND(COUNT(p.user_id) * 100.0 / cohort_users_cnt, 2) AS retention_rate\n",
    "FROM profile p\n",
    "JOIN sessions s ON p.user_id = s.user_id\n",
    "GROUP BY 1,2,4\n",
    "'''\n",
    "\n",
    "df = pd.read_sql_query(query, con=engine) \n",
    "display(df)"
   ]
  },
  {
   "cell_type": "markdown",
   "metadata": {
    "id": "_msBtnb2DWLC"
   },
   "source": [
    "Постройте тепловую карту Retention Rate. Какие аномалии или другие необычные явления удалось выявить? Сформулируйте гипотезы о возможных причинах."
   ]
  },
  {
   "cell_type": "code",
   "execution_count": 19,
   "metadata": {
    "id": "qAEJc8H1DWLC"
   },
   "outputs": [
    {
     "data": {
      "image/png": "[encoded data removed]",
      "text/plain": [
       "<Figure size 864x864 with 2 Axes>"
      ]
     },
     "metadata": {
      "needs_background": "light"
     },
     "output_type": "display_data"
    }
   ],
   "source": [
    "retention = df.pivot('cohort_month', 'session_month', 'retention_rate')\n",
    "retention.index = [str(x)[0:10] for x in retention.index]\n",
    "retention.columns = [str(x)[0:10] for x in retention.columns]\n",
    "\n",
    "# строим хитмэп\n",
    "plt.figure(figsize=(12, 12)) # задаём размер графика\n",
    "sns.heatmap(retention, # датафрейм с данными\n",
    "            annot=True, # добавляем подписи\n",
    "            fmt='') # задаём исходный формат\n",
    "plt.title('Тепловая карта') # название графика\n",
    "plt.show() "
   ]
  },
  {
   "cell_type": "markdown",
   "metadata": {
    "id": "EgOfIsI4DWLC"
   },
   "source": [
    "## Ответ:\n",
    "* Июльская когорта состоит из 3х пользователей, поэтому такие показатели.\n",
    "* Каждая последующая когорта имеет retention rate ниже предыдущей.\n"
   ]
  },
  {
   "cell_type": "markdown",
   "metadata": {
    "id": "1k7oPWt5DWLK"
   },
   "source": [
    "# Задание 9\n"
   ]
  },
  {
   "cell_type": "markdown",
   "metadata": {
    "id": "ALsYVSyRDWLM"
   },
   "source": [
    "На сколько процентов менялось количество постов ежемесячно с 1 сентября по 31 декабря 2008 года? Отобразите таблицу со следующими полями:\n",
    "\n",
    "- номер месяца;\n",
    "- количество постов за месяц;\n",
    "- процент, который показывает, насколько изменилось количество постов в текущем месяце по сравнению с предыдущим.\n",
    "\n",
    "Если постов стало меньше, значение процента должно быть отрицательным, если больше — положительным. Округлите значение процента до двух знаков после запятой.\n",
    "\n",
    "Напомним, что при делении одного целого числа на другое в PostgreSQL в результате получится целое число, округлённое до ближайшего целого вниз. Чтобы этого избежать, переведите делимое в тип `numeric`."
   ]
  },
  {
   "cell_type": "markdown",
   "metadata": {
    "id": "u4E2zF8DDWLM"
   },
   "source": [
    "| creation_month | posts_count | percentage |\n",
    "| -------------- | ----------- | ---------- |\n",
    "| 9 | 70731 | Nan |\n",
    "| 10 | 63102 | -10.33 |\n",
    "| ... | ... | ... |"
   ]
  },
  {
   "cell_type": "markdown",
   "metadata": {},
   "source": [
    "1. Формируем временную таблицу, в которой считаем кол-во постов в месяц за период с сентября по декабрь 2008 года включительно.\n",
    "2. Чтобы вычислить процент изменений кол-ва постов:\n",
    "    * Из количества постов `posts_count` вычитаем предыдущее значение кол-ва постов `LAG(posts_count) OVER ()` и делим тоже на предыдущее кол-во постов `LAG(posts_count) OVER ()`\n",
    "    * При этом делимое переводим в тип `numeric` с помощью `CAST( *** as numeric)`\n",
    "    * Получившееся значение умножаем на `100` и округляем до сотых `ROUND( *** ,2)`"
   ]
  },
  {
   "cell_type": "code",
   "execution_count": 20,
   "metadata": {
    "id": "Mb5pShStDWLN"
   },
   "outputs": [
    {
     "data": {
      "text/html": [
       "<div>\n",
       "<style scoped>\n",
       "    .dataframe tbody tr th:only-of-type {\n",
       "        vertical-align: middle;\n",
       "    }\n",
       "\n",
       "    .dataframe tbody tr th {\n",
       "        vertical-align: top;\n",
       "    }\n",
       "\n",
       "    .dataframe thead th {\n",
       "        text-align: right;\n",
       "    }\n",
       "</style>\n",
       "<table border=\"1\" class=\"dataframe\">\n",
       "  <thead>\n",
       "    <tr style=\"text-align: right;\">\n",
       "      <th></th>\n",
       "      <th>creation_month</th>\n",
       "      <th>posts_count</th>\n",
       "      <th>percentage</th>\n",
       "    </tr>\n",
       "  </thead>\n",
       "  <tbody>\n",
       "    <tr>\n",
       "      <th>0</th>\n",
       "      <td>9.0</td>\n",
       "      <td>70371</td>\n",
       "      <td>NaN</td>\n",
       "    </tr>\n",
       "    <tr>\n",
       "      <th>1</th>\n",
       "      <td>10.0</td>\n",
       "      <td>63102</td>\n",
       "      <td>-10.33</td>\n",
       "    </tr>\n",
       "    <tr>\n",
       "      <th>2</th>\n",
       "      <td>11.0</td>\n",
       "      <td>46975</td>\n",
       "      <td>-25.56</td>\n",
       "    </tr>\n",
       "    <tr>\n",
       "      <th>3</th>\n",
       "      <td>12.0</td>\n",
       "      <td>44592</td>\n",
       "      <td>-5.07</td>\n",
       "    </tr>\n",
       "  </tbody>\n",
       "</table>\n",
       "</div>"
      ],
      "text/plain": [
       "   creation_month  posts_count  percentage\n",
       "0             9.0        70371         NaN\n",
       "1            10.0        63102      -10.33\n",
       "2            11.0        46975      -25.56\n",
       "3            12.0        44592       -5.07"
      ]
     },
     "metadata": {},
     "output_type": "display_data"
    }
   ],
   "source": [
    "query = '''\n",
    "WITH posts_by_month AS (SELECT EXTRACT(month FROM creation_date) as creation_month,\n",
    "                            COUNT(id) as posts_count\n",
    "                        FROM stackoverflow.posts\n",
    "                        WHERE DATE_TRUNC('month',creation_date) BETWEEN '2008-09-01' AND '2008-12-01'\n",
    "                        GROUP BY creation_month\n",
    "                        )\n",
    "\n",
    "SELECT *,\n",
    "    ROUND(\n",
    "        CAST((posts_count - LAG(posts_count) OVER (ORDER BY creation_month)) as numeric)/LAG(posts_count) OVER (ORDER BY creation_month) * 100\n",
    "        ,2)  as percentage\n",
    "FROM posts_by_month\n",
    "\n",
    "'''\n",
    "\n",
    "df = pd.read_sql_query(query, con=engine) \n",
    "display(df)"
   ]
  },
  {
   "cell_type": "markdown",
   "metadata": {
    "id": "9NQE2y_MDWLP"
   },
   "source": [
    "Постройте круговую диаграмму с количеством постов по месяцам."
   ]
  },
  {
   "cell_type": "code",
   "execution_count": 21,
   "metadata": {
    "id": "377ABjiVDWLP"
   },
   "outputs": [
    {
     "data": {
      "image/png": "[encoded data removed]",
      "text/plain": [
       "<Figure size 432x432 with 1 Axes>"
      ]
     },
     "metadata": {},
     "output_type": "display_data"
    }
   ],
   "source": [
    "# постройте круговую диаграмму с количеством постов по месяцам\n",
    "plt.figure(figsize=(6,6))\n",
    "plt.pie(x=df['posts_count'],labels=['September','October','November','December'],\n",
    "        autopct='%.0f%%')\n",
    "plt.show()"
   ]
  },
  {
   "cell_type": "markdown",
   "metadata": {
    "id": "uw7qMtafDWLP"
   },
   "source": [
    "# Задание 10"
   ]
  },
  {
   "cell_type": "markdown",
   "metadata": {
    "id": "oRBpWKx3DWLQ"
   },
   "source": [
    "Выгрузите данные активности пользователя, который опубликовал больше всего постов за всё время. Выведите данные за октябрь 2008 года в таком виде:\n",
    "\n",
    "- номер недели;\n",
    "- дата и время последнего поста, опубликованного на этой неделе."
   ]
  },
  {
   "cell_type": "markdown",
   "metadata": {
    "id": "XjAWSn_3DWLQ"
   },
   "source": [
    "| week_creation | creation_date |\n",
    "| ------------- | ------------- |\n",
    "| 40 | 2008-10-05 09:00:58 |\n",
    "| 41 | 2008-10-12 21:22:23 |\n",
    "| ... | ... |"
   ]
  },
  {
   "cell_type": "code",
   "execution_count": 22,
   "metadata": {
    "id": "r5F5fSkwDWLQ"
   },
   "outputs": [
    {
     "data": {
      "text/html": [
       "<div>\n",
       "<style scoped>\n",
       "    .dataframe tbody tr th:only-of-type {\n",
       "        vertical-align: middle;\n",
       "    }\n",
       "\n",
       "    .dataframe tbody tr th {\n",
       "        vertical-align: top;\n",
       "    }\n",
       "\n",
       "    .dataframe thead th {\n",
       "        text-align: right;\n",
       "    }\n",
       "</style>\n",
       "<table border=\"1\" class=\"dataframe\">\n",
       "  <thead>\n",
       "    <tr style=\"text-align: right;\">\n",
       "      <th></th>\n",
       "      <th>date_part</th>\n",
       "      <th>max</th>\n",
       "    </tr>\n",
       "  </thead>\n",
       "  <tbody>\n",
       "    <tr>\n",
       "      <th>0</th>\n",
       "      <td>40.0</td>\n",
       "      <td>2008-10-05 09:00:58</td>\n",
       "    </tr>\n",
       "    <tr>\n",
       "      <th>1</th>\n",
       "      <td>41.0</td>\n",
       "      <td>2008-10-12 21:22:23</td>\n",
       "    </tr>\n",
       "    <tr>\n",
       "      <th>2</th>\n",
       "      <td>42.0</td>\n",
       "      <td>2008-10-19 06:49:30</td>\n",
       "    </tr>\n",
       "    <tr>\n",
       "      <th>3</th>\n",
       "      <td>43.0</td>\n",
       "      <td>2008-10-26 21:44:36</td>\n",
       "    </tr>\n",
       "    <tr>\n",
       "      <th>4</th>\n",
       "      <td>44.0</td>\n",
       "      <td>2008-10-31 22:16:01</td>\n",
       "    </tr>\n",
       "  </tbody>\n",
       "</table>\n",
       "</div>"
      ],
      "text/plain": [
       "   date_part                 max\n",
       "0       40.0 2008-10-05 09:00:58\n",
       "1       41.0 2008-10-12 21:22:23\n",
       "2       42.0 2008-10-19 06:49:30\n",
       "3       43.0 2008-10-26 21:44:36\n",
       "4       44.0 2008-10-31 22:16:01"
      ]
     },
     "metadata": {},
     "output_type": "display_data"
    }
   ],
   "source": [
    "query = '''\n",
    "WITH user_ AS (SELECT user_id\n",
    "            FROM stackoverflow.posts\n",
    "            GROUP BY user_id\n",
    "            ORDER BY COUNT(id) DESC\n",
    "            LIMIT 1\n",
    "            )\n",
    "\n",
    "SELECT DISTINCT(EXTRACT(week FROM creation_date)),\n",
    "        MAX(creation_date) OVER (PARTITION BY EXTRACT(week FROM creation_date))\n",
    "FROM stackoverflow.posts\n",
    "WHERE DATE_TRUNC('month',creation_date) = '2008-10-01'\n",
    "    AND user_id = (SELECT user_id FROM user_)\n",
    "'''\n",
    "\n",
    "df = pd.read_sql_query(query, con=engine) \n",
    "display(df)"
   ]
  }
 ],
 "metadata": {
  "ExecuteTimeLog": [
   {
    "duration": 968,
    "start_time": "2022-06-21T14:26:47.108Z"
   },
   {
    "duration": 3,
    "start_time": "2022-06-21T14:26:48.078Z"
   },
   {
    "duration": 10448,
    "start_time": "2022-06-21T14:26:48.453Z"
   },
   {
    "duration": 82,
    "start_time": "2022-06-21T14:26:58.903Z"
   },
   {
    "duration": 15,
    "start_time": "2022-06-21T14:26:58.988Z"
   },
   {
    "duration": 1654,
    "start_time": "2022-06-21T14:28:13.808Z"
   },
   {
    "duration": 490,
    "start_time": "2022-06-21T14:36:57.408Z"
   },
   {
    "duration": 1585,
    "start_time": "2022-06-21T14:37:05.377Z"
   },
   {
    "duration": 1541,
    "start_time": "2022-06-21T14:37:23.529Z"
   },
   {
    "duration": 1505,
    "start_time": "2022-06-21T14:38:06.541Z"
   },
   {
    "duration": 775,
    "start_time": "2022-06-21T14:39:35.508Z"
   },
   {
    "duration": 80,
    "start_time": "2022-06-21T14:40:13.005Z"
   },
   {
    "duration": 68,
    "start_time": "2022-06-21T14:41:01.379Z"
   },
   {
    "duration": 70,
    "start_time": "2022-06-21T14:41:06.513Z"
   },
   {
    "duration": 160,
    "start_time": "2022-06-21T14:41:57.069Z"
   },
   {
    "duration": 742,
    "start_time": "2022-06-21T14:42:08.744Z"
   },
   {
    "duration": 73,
    "start_time": "2022-06-21T14:42:35.855Z"
   },
   {
    "duration": 149,
    "start_time": "2022-06-21T14:42:49.790Z"
   },
   {
    "duration": 589,
    "start_time": "2022-06-21T14:43:10.942Z"
   },
   {
    "duration": 57,
    "start_time": "2022-06-23T12:57:44.403Z"
   },
   {
    "duration": 1006,
    "start_time": "2022-06-23T12:57:49.408Z"
   },
   {
    "duration": 4,
    "start_time": "2022-06-23T12:57:50.416Z"
   },
   {
    "duration": 7226,
    "start_time": "2022-06-23T12:57:52.479Z"
   },
   {
    "duration": 248,
    "start_time": "2022-06-23T12:57:59.707Z"
   },
   {
    "duration": 1345,
    "start_time": "2022-06-23T13:01:34.075Z"
   },
   {
    "duration": 266,
    "start_time": "2022-06-23T13:02:49.217Z"
   },
   {
    "duration": 209,
    "start_time": "2022-06-23T13:03:27.375Z"
   },
   {
    "duration": 238,
    "start_time": "2022-06-23T13:03:40.208Z"
   },
   {
    "duration": 995,
    "start_time": "2022-06-24T06:57:37.176Z"
   },
   {
    "duration": 4,
    "start_time": "2022-06-24T06:57:38.173Z"
   },
   {
    "duration": 6567,
    "start_time": "2022-06-24T06:57:38.881Z"
   },
   {
    "duration": 2649,
    "start_time": "2022-06-24T07:03:23.537Z"
   },
   {
    "duration": 1286,
    "start_time": "2022-06-24T07:04:43.668Z"
   },
   {
    "duration": 191,
    "start_time": "2022-06-24T07:06:51.693Z"
   },
   {
    "duration": 141,
    "start_time": "2022-06-24T07:06:58.106Z"
   },
   {
    "duration": 114,
    "start_time": "2022-06-24T07:07:12.434Z"
   },
   {
    "duration": 116,
    "start_time": "2022-06-24T07:07:23.202Z"
   },
   {
    "duration": 786,
    "start_time": "2022-06-24T07:07:32.497Z"
   },
   {
    "duration": 869,
    "start_time": "2022-06-24T07:07:48.551Z"
   },
   {
    "duration": 670,
    "start_time": "2022-06-24T07:08:15.567Z"
   },
   {
    "duration": 853,
    "start_time": "2022-06-24T07:08:50.965Z"
   },
   {
    "duration": 896,
    "start_time": "2022-06-24T07:09:55.105Z"
   },
   {
    "duration": 489,
    "start_time": "2022-06-24T07:10:24.528Z"
   },
   {
    "duration": 471,
    "start_time": "2022-06-24T07:10:48.769Z"
   },
   {
    "duration": 372,
    "start_time": "2022-06-24T07:11:16.581Z"
   },
   {
    "duration": 356,
    "start_time": "2022-06-24T07:11:48.036Z"
   },
   {
    "duration": 287,
    "start_time": "2022-06-24T07:12:42.665Z"
   },
   {
    "duration": 291,
    "start_time": "2022-06-24T07:12:53.119Z"
   },
   {
    "duration": 14,
    "start_time": "2022-06-24T07:13:43.683Z"
   },
   {
    "duration": 208,
    "start_time": "2022-06-24T07:14:01.796Z"
   },
   {
    "duration": 206,
    "start_time": "2022-06-24T07:14:14.339Z"
   },
   {
    "duration": 12,
    "start_time": "2022-06-24T07:14:39.641Z"
   },
   {
    "duration": 195,
    "start_time": "2022-06-24T07:14:48.434Z"
   },
   {
    "duration": 121,
    "start_time": "2022-06-24T07:14:55.224Z"
   },
   {
    "duration": 160,
    "start_time": "2022-06-24T07:14:58.304Z"
   },
   {
    "duration": 103,
    "start_time": "2022-06-24T07:15:11.384Z"
   },
   {
    "duration": 539,
    "start_time": "2022-06-24T07:16:07.198Z"
   },
   {
    "duration": 278,
    "start_time": "2022-06-24T07:16:22.740Z"
   },
   {
    "duration": 182,
    "start_time": "2022-06-24T07:16:38.834Z"
   },
   {
    "duration": 187,
    "start_time": "2022-06-24T07:16:52.797Z"
   },
   {
    "duration": 506,
    "start_time": "2022-06-24T07:17:16.543Z"
   },
   {
    "duration": 206,
    "start_time": "2022-06-24T07:17:49.152Z"
   },
   {
    "duration": 141,
    "start_time": "2022-06-24T07:18:04.642Z"
   },
   {
    "duration": 137,
    "start_time": "2022-06-24T07:18:50.269Z"
   },
   {
    "duration": 671,
    "start_time": "2022-06-24T07:18:52.893Z"
   },
   {
    "duration": 535,
    "start_time": "2022-06-24T07:19:01.293Z"
   },
   {
    "duration": 137,
    "start_time": "2022-06-24T08:36:30.072Z"
   },
   {
    "duration": 1005,
    "start_time": "2022-06-24T08:36:38.864Z"
   },
   {
    "duration": 132,
    "start_time": "2022-06-24T08:37:13.206Z"
   },
   {
    "duration": 1600,
    "start_time": "2022-06-24T08:37:50.517Z"
   },
   {
    "duration": 357,
    "start_time": "2022-06-24T08:38:22.184Z"
   },
   {
    "duration": 107,
    "start_time": "2022-06-24T08:41:57.801Z"
   },
   {
    "duration": 317,
    "start_time": "2022-06-24T08:42:08.272Z"
   },
   {
    "duration": 15412,
    "start_time": "2022-06-24T08:53:30.281Z"
   },
   {
    "duration": 1128,
    "start_time": "2022-06-24T08:55:37.170Z"
   },
   {
    "duration": 1908,
    "start_time": "2022-06-24T08:56:55.578Z"
   },
   {
    "duration": 139,
    "start_time": "2022-06-24T09:02:06.084Z"
   },
   {
    "duration": 197,
    "start_time": "2022-06-24T09:02:21.494Z"
   },
   {
    "duration": 1224,
    "start_time": "2022-06-24T09:02:55.648Z"
   },
   {
    "duration": 1320,
    "start_time": "2022-06-24T09:11:06.487Z"
   },
   {
    "duration": 1537,
    "start_time": "2022-06-24T09:14:25.077Z"
   },
   {
    "duration": 786,
    "start_time": "2022-06-24T09:14:51.677Z"
   },
   {
    "duration": 204,
    "start_time": "2022-06-24T09:16:36.411Z"
   },
   {
    "duration": 198,
    "start_time": "2022-06-24T09:16:52.803Z"
   },
   {
    "duration": 19301,
    "start_time": "2022-06-24T09:17:56.414Z"
   },
   {
    "duration": 867,
    "start_time": "2022-06-24T09:19:38.673Z"
   },
   {
    "duration": 18068,
    "start_time": "2022-06-24T09:20:39.230Z"
   },
   {
    "duration": 15171,
    "start_time": "2022-06-24T09:35:30.472Z"
   },
   {
    "duration": 1365,
    "start_time": "2022-06-25T07:12:05.565Z"
   },
   {
    "duration": 3,
    "start_time": "2022-06-25T07:12:06.933Z"
   },
   {
    "duration": 5482,
    "start_time": "2022-06-25T07:12:07.786Z"
   },
   {
    "duration": 478,
    "start_time": "2022-06-25T07:32:55.390Z"
   },
   {
    "duration": 895,
    "start_time": "2022-06-25T07:37:25.400Z"
   },
   {
    "duration": 165,
    "start_time": "2022-06-25T07:38:34.249Z"
   },
   {
    "duration": 381,
    "start_time": "2022-06-25T07:38:35.527Z"
   },
   {
    "duration": 154,
    "start_time": "2022-06-25T07:39:14.125Z"
   },
   {
    "duration": 195,
    "start_time": "2022-06-25T07:45:04.146Z"
   },
   {
    "duration": 103,
    "start_time": "2022-06-25T07:45:12.628Z"
   },
   {
    "duration": 99,
    "start_time": "2022-06-25T07:45:29.277Z"
   },
   {
    "duration": 1078,
    "start_time": "2022-06-25T07:45:38.869Z"
   },
   {
    "duration": 202,
    "start_time": "2022-06-25T07:56:47.912Z"
   },
   {
    "duration": 104,
    "start_time": "2022-06-25T07:57:34.692Z"
   },
   {
    "duration": 97,
    "start_time": "2022-06-25T07:58:35.274Z"
   },
   {
    "duration": 96,
    "start_time": "2022-06-25T07:58:50.626Z"
   },
   {
    "duration": 77,
    "start_time": "2022-06-25T08:01:11.084Z"
   },
   {
    "duration": 71,
    "start_time": "2022-06-25T08:01:38.697Z"
   },
   {
    "duration": 106,
    "start_time": "2022-06-25T08:06:44.767Z"
   },
   {
    "duration": 101,
    "start_time": "2022-06-25T08:08:19.790Z"
   },
   {
    "duration": 128,
    "start_time": "2022-06-25T08:08:56.894Z"
   },
   {
    "duration": 129,
    "start_time": "2022-06-25T08:11:03.287Z"
   },
   {
    "duration": 112,
    "start_time": "2022-06-25T08:12:09.185Z"
   },
   {
    "duration": 103,
    "start_time": "2022-06-25T08:12:50.850Z"
   },
   {
    "duration": 147,
    "start_time": "2022-06-25T08:13:01.248Z"
   },
   {
    "duration": 107,
    "start_time": "2022-06-25T08:14:56.282Z"
   },
   {
    "duration": 135,
    "start_time": "2022-06-25T08:15:09.990Z"
   },
   {
    "duration": 246,
    "start_time": "2022-06-25T08:15:20.049Z"
   },
   {
    "duration": 128,
    "start_time": "2022-06-25T08:15:30.025Z"
   },
   {
    "duration": 132,
    "start_time": "2022-06-25T08:15:44.903Z"
   },
   {
    "duration": 126,
    "start_time": "2022-06-25T08:16:12.318Z"
   },
   {
    "duration": 173,
    "start_time": "2022-06-25T08:16:19.884Z"
   },
   {
    "duration": 148,
    "start_time": "2022-06-25T08:17:11.932Z"
   },
   {
    "duration": 41,
    "start_time": "2022-06-26T14:00:38.354Z"
   },
   {
    "duration": 1261,
    "start_time": "2022-06-26T14:00:43.453Z"
   },
   {
    "duration": 3,
    "start_time": "2022-06-26T14:00:44.716Z"
   },
   {
    "duration": 5409,
    "start_time": "2022-06-26T14:00:44.720Z"
   },
   {
    "duration": 213,
    "start_time": "2022-06-26T14:00:50.131Z"
   },
   {
    "duration": 12,
    "start_time": "2022-06-26T14:00:50.345Z"
   },
   {
    "duration": 108,
    "start_time": "2022-06-26T14:00:50.358Z"
   },
   {
    "duration": 309,
    "start_time": "2022-06-26T14:00:50.468Z"
   },
   {
    "duration": 11,
    "start_time": "2022-06-26T14:00:50.779Z"
   },
   {
    "duration": 168,
    "start_time": "2022-06-26T14:00:50.791Z"
   },
   {
    "duration": 380,
    "start_time": "2022-06-26T14:00:50.961Z"
   },
   {
    "duration": 143,
    "start_time": "2022-06-26T14:00:51.342Z"
   },
   {
    "duration": 158,
    "start_time": "2022-06-26T14:00:51.487Z"
   },
   {
    "duration": 1033,
    "start_time": "2022-06-26T14:00:51.646Z"
   },
   {
    "duration": 105,
    "start_time": "2022-06-26T14:00:52.681Z"
   },
   {
    "duration": 106,
    "start_time": "2022-06-26T14:01:40.476Z"
   },
   {
    "duration": 96,
    "start_time": "2022-06-26T14:01:48.771Z"
   },
   {
    "duration": 94,
    "start_time": "2022-06-26T14:02:47.512Z"
   },
   {
    "duration": 93,
    "start_time": "2022-06-26T14:03:36.407Z"
   },
   {
    "duration": 2,
    "start_time": "2022-06-26T14:05:49.176Z"
   },
   {
    "duration": 1231,
    "start_time": "2022-06-26T14:05:56.470Z"
   },
   {
    "duration": 217,
    "start_time": "2022-06-26T14:07:05.499Z"
   },
   {
    "duration": 90,
    "start_time": "2022-06-26T14:07:47.273Z"
   },
   {
    "duration": 66,
    "start_time": "2022-06-26T14:08:27.047Z"
   },
   {
    "duration": 1412,
    "start_time": "2022-06-27T14:46:33.105Z"
   },
   {
    "duration": 5,
    "start_time": "2022-06-27T14:46:34.519Z"
   },
   {
    "duration": 5549,
    "start_time": "2022-06-27T14:46:36.846Z"
   },
   {
    "duration": 1620,
    "start_time": "2022-06-27T15:32:35.654Z"
   },
   {
    "duration": 924,
    "start_time": "2022-06-27T15:38:02.998Z"
   },
   {
    "duration": 185,
    "start_time": "2022-06-27T15:41:23.372Z"
   },
   {
    "duration": 97,
    "start_time": "2022-06-27T15:41:28.773Z"
   },
   {
    "duration": 101,
    "start_time": "2022-06-27T15:41:35.516Z"
   },
   {
    "duration": 1098,
    "start_time": "2022-06-27T15:42:50.329Z"
   },
   {
    "duration": 1141,
    "start_time": "2022-06-27T15:44:53.922Z"
   },
   {
    "duration": 8,
    "start_time": "2022-06-27T15:45:03.913Z"
   },
   {
    "duration": 9,
    "start_time": "2022-06-27T15:45:07.969Z"
   },
   {
    "duration": 23,
    "start_time": "2022-06-27T15:45:49.839Z"
   },
   {
    "duration": 1088,
    "start_time": "2022-06-27T15:50:16.482Z"
   },
   {
    "duration": 504,
    "start_time": "2022-06-27T16:07:41.642Z"
   },
   {
    "duration": 72,
    "start_time": "2022-06-27T16:13:20.061Z"
   },
   {
    "duration": 169,
    "start_time": "2022-06-27T16:13:49.028Z"
   },
   {
    "duration": 149,
    "start_time": "2022-06-27T16:14:10.900Z"
   },
   {
    "duration": 1140,
    "start_time": "2022-06-27T16:17:03.681Z"
   },
   {
    "duration": 1228,
    "start_time": "2022-06-27T16:17:48.808Z"
   },
   {
    "duration": 107,
    "start_time": "2022-06-27T16:26:38.575Z"
   },
   {
    "duration": 105,
    "start_time": "2022-06-27T16:27:09.295Z"
   },
   {
    "duration": 107,
    "start_time": "2022-06-27T16:27:23.117Z"
   },
   {
    "duration": 92,
    "start_time": "2022-06-27T16:27:41.131Z"
   },
   {
    "duration": 93,
    "start_time": "2022-06-27T16:27:47.739Z"
   },
   {
    "duration": 97,
    "start_time": "2022-06-27T16:27:53.324Z"
   },
   {
    "duration": 108,
    "start_time": "2022-06-27T16:28:08.762Z"
   },
   {
    "duration": 1292,
    "start_time": "2022-06-27T16:28:11.987Z"
   },
   {
    "duration": 256,
    "start_time": "2022-06-27T16:29:28.603Z"
   },
   {
    "duration": 662,
    "start_time": "2022-06-27T16:29:45.860Z"
   },
   {
    "duration": 357,
    "start_time": "2022-06-27T16:31:11.518Z"
   },
   {
    "duration": 418,
    "start_time": "2022-06-27T16:31:56.487Z"
   },
   {
    "duration": 2320,
    "start_time": "2022-06-27T16:32:02.734Z"
   },
   {
    "duration": 1608,
    "start_time": "2022-06-27T16:58:05.296Z"
   },
   {
    "duration": 186,
    "start_time": "2022-06-27T16:58:56.733Z"
   },
   {
    "duration": 157,
    "start_time": "2022-06-27T16:59:07.596Z"
   },
   {
    "duration": 155,
    "start_time": "2022-06-27T16:59:12.269Z"
   },
   {
    "duration": 93,
    "start_time": "2022-06-27T16:59:21.731Z"
   },
   {
    "duration": 94,
    "start_time": "2022-06-27T17:00:13.873Z"
   },
   {
    "duration": 98,
    "start_time": "2022-06-27T17:00:18.576Z"
   },
   {
    "duration": 107,
    "start_time": "2022-06-27T17:00:23.121Z"
   },
   {
    "duration": 98,
    "start_time": "2022-06-27T17:00:30.392Z"
   },
   {
    "duration": 95,
    "start_time": "2022-06-27T17:00:36.216Z"
   },
   {
    "duration": 109,
    "start_time": "2022-06-27T17:01:35.982Z"
   },
   {
    "duration": 668,
    "start_time": "2022-06-27T17:01:52.309Z"
   },
   {
    "duration": 314,
    "start_time": "2022-06-27T17:14:16.443Z"
   },
   {
    "duration": 100,
    "start_time": "2022-06-27T17:15:20.185Z"
   },
   {
    "duration": 323,
    "start_time": "2022-06-27T17:15:25.001Z"
   },
   {
    "duration": 105,
    "start_time": "2022-06-27T17:15:44.656Z"
   },
   {
    "duration": 1328,
    "start_time": "2022-06-28T06:28:43.709Z"
   },
   {
    "duration": 3,
    "start_time": "2022-06-28T06:28:45.039Z"
   },
   {
    "duration": 5151,
    "start_time": "2022-06-28T06:28:45.189Z"
   },
   {
    "duration": 628,
    "start_time": "2022-06-28T06:32:35.521Z"
   },
   {
    "duration": 1008,
    "start_time": "2022-06-28T06:32:46.064Z"
   },
   {
    "duration": 3,
    "start_time": "2022-06-28T06:35:24.856Z"
   },
   {
    "duration": 1505,
    "start_time": "2022-06-28T06:35:31.502Z"
   },
   {
    "duration": 631,
    "start_time": "2022-06-28T06:36:02.887Z"
   },
   {
    "duration": 195,
    "start_time": "2022-06-28T06:36:31.265Z"
   },
   {
    "duration": 93,
    "start_time": "2022-06-28T06:36:36.797Z"
   },
   {
    "duration": 137,
    "start_time": "2022-06-28T06:36:45.168Z"
   },
   {
    "duration": 92,
    "start_time": "2022-06-28T06:37:23.888Z"
   },
   {
    "duration": 96,
    "start_time": "2022-06-28T06:38:12.792Z"
   },
   {
    "duration": 92,
    "start_time": "2022-06-28T06:38:26.160Z"
   },
   {
    "duration": 90,
    "start_time": "2022-06-28T06:38:59.668Z"
   },
   {
    "duration": 101,
    "start_time": "2022-06-28T06:39:13.352Z"
   },
   {
    "duration": 96,
    "start_time": "2022-06-28T06:40:33.801Z"
   },
   {
    "duration": 92,
    "start_time": "2022-06-28T06:40:38.872Z"
   },
   {
    "duration": 93,
    "start_time": "2022-06-28T06:41:23.509Z"
   },
   {
    "duration": 93,
    "start_time": "2022-06-28T06:41:36.396Z"
   },
   {
    "duration": 93,
    "start_time": "2022-06-28T06:41:40.404Z"
   },
   {
    "duration": 90,
    "start_time": "2022-06-28T06:44:07.421Z"
   },
   {
    "duration": 96,
    "start_time": "2022-06-28T06:44:52.083Z"
   },
   {
    "duration": 96,
    "start_time": "2022-06-28T06:45:09.601Z"
   },
   {
    "duration": 109,
    "start_time": "2022-06-28T06:45:20.521Z"
   },
   {
    "duration": 97,
    "start_time": "2022-06-28T06:47:07.160Z"
   },
   {
    "duration": 8800,
    "start_time": "2022-06-28T06:52:25.803Z"
   },
   {
    "duration": 8591,
    "start_time": "2022-06-28T06:52:57.480Z"
   },
   {
    "duration": 153,
    "start_time": "2022-06-28T06:54:03.889Z"
   },
   {
    "duration": 98,
    "start_time": "2022-06-28T06:54:06.175Z"
   },
   {
    "duration": 99,
    "start_time": "2022-06-28T06:54:25.326Z"
   },
   {
    "duration": 100,
    "start_time": "2022-06-28T06:54:40.295Z"
   },
   {
    "duration": 97,
    "start_time": "2022-06-28T06:54:41.895Z"
   },
   {
    "duration": 92,
    "start_time": "2022-06-28T06:55:17.363Z"
   },
   {
    "duration": 92,
    "start_time": "2022-06-28T06:55:53.879Z"
   },
   {
    "duration": 74,
    "start_time": "2022-06-28T06:58:05.446Z"
   },
   {
    "duration": 96,
    "start_time": "2022-06-28T06:58:48.815Z"
   },
   {
    "duration": 1051,
    "start_time": "2022-06-28T06:59:01.394Z"
   },
   {
    "duration": 574,
    "start_time": "2022-06-28T06:59:09.154Z"
   },
   {
    "duration": 79,
    "start_time": "2022-06-28T06:59:31.197Z"
   },
   {
    "duration": 82,
    "start_time": "2022-06-28T06:59:48.700Z"
   },
   {
    "duration": 70,
    "start_time": "2022-06-28T06:59:54.323Z"
   },
   {
    "duration": 90,
    "start_time": "2022-06-28T07:00:36.497Z"
   },
   {
    "duration": 72,
    "start_time": "2022-06-28T07:01:31.351Z"
   },
   {
    "duration": 88,
    "start_time": "2022-06-28T07:02:53.106Z"
   },
   {
    "duration": 83,
    "start_time": "2022-06-28T07:03:46.697Z"
   },
   {
    "duration": 88,
    "start_time": "2022-06-28T07:03:54.103Z"
   },
   {
    "duration": 203,
    "start_time": "2022-06-28T07:12:37.274Z"
   },
   {
    "duration": 114,
    "start_time": "2022-06-28T07:13:03.669Z"
   },
   {
    "duration": 197,
    "start_time": "2022-06-28T07:13:10.276Z"
   },
   {
    "duration": 106,
    "start_time": "2022-06-28T07:13:15.698Z"
   },
   {
    "duration": 216,
    "start_time": "2022-06-28T07:13:25.194Z"
   },
   {
    "duration": 259,
    "start_time": "2022-06-28T07:15:23.419Z"
   },
   {
    "duration": 185,
    "start_time": "2022-06-28T07:15:47.349Z"
   },
   {
    "duration": 209,
    "start_time": "2022-06-28T07:16:33.269Z"
   },
   {
    "duration": 112,
    "start_time": "2022-06-28T07:17:09.073Z"
   },
   {
    "duration": 1146,
    "start_time": "2022-06-28T07:19:02.065Z"
   },
   {
    "duration": 751,
    "start_time": "2022-06-28T07:22:41.709Z"
   },
   {
    "duration": 280,
    "start_time": "2022-06-28T07:23:08.070Z"
   },
   {
    "duration": 8,
    "start_time": "2022-06-28T07:23:20.891Z"
   },
   {
    "duration": 774,
    "start_time": "2022-06-28T07:23:47.379Z"
   },
   {
    "duration": 331,
    "start_time": "2022-06-28T07:24:03.481Z"
   },
   {
    "duration": 147,
    "start_time": "2022-06-28T07:26:20.560Z"
   },
   {
    "duration": 511,
    "start_time": "2022-06-28T07:27:54.319Z"
   },
   {
    "duration": 320,
    "start_time": "2022-06-28T07:30:30.572Z"
   },
   {
    "duration": 472,
    "start_time": "2022-06-28T07:31:27.565Z"
   },
   {
    "duration": 525,
    "start_time": "2022-06-28T07:31:48.602Z"
   },
   {
    "duration": 455,
    "start_time": "2022-06-28T07:31:54.985Z"
   },
   {
    "duration": 12,
    "start_time": "2022-06-28T07:32:10.696Z"
   },
   {
    "duration": 406,
    "start_time": "2022-06-28T07:32:19.607Z"
   },
   {
    "duration": 1209,
    "start_time": "2022-06-28T12:55:47.069Z"
   },
   {
    "duration": 3,
    "start_time": "2022-06-28T12:55:48.280Z"
   },
   {
    "duration": 11390,
    "start_time": "2022-06-28T12:55:48.284Z"
   },
   {
    "duration": 56,
    "start_time": "2022-06-28T12:55:59.676Z"
   },
   {
    "duration": 13,
    "start_time": "2022-06-28T12:55:59.734Z"
   },
   {
    "duration": 70,
    "start_time": "2022-06-28T12:55:59.748Z"
   },
   {
    "duration": 267,
    "start_time": "2022-06-28T12:55:59.820Z"
   },
   {
    "duration": 13,
    "start_time": "2022-06-28T12:56:00.089Z"
   },
   {
    "duration": 200,
    "start_time": "2022-06-28T12:56:00.104Z"
   },
   {
    "duration": 478,
    "start_time": "2022-06-28T12:56:00.307Z"
   },
   {
    "duration": 163,
    "start_time": "2022-06-28T12:56:00.786Z"
   },
   {
    "duration": 138,
    "start_time": "2022-06-28T12:56:00.951Z"
   },
   {
    "duration": 1144,
    "start_time": "2022-06-28T12:56:01.090Z"
   },
   {
    "duration": 69,
    "start_time": "2022-06-28T12:56:02.235Z"
   },
   {
    "duration": 37,
    "start_time": "2022-06-28T12:56:02.306Z"
   },
   {
    "duration": 959,
    "start_time": "2022-06-28T12:56:02.345Z"
   },
   {
    "duration": 9,
    "start_time": "2022-06-28T12:56:03.305Z"
   },
   {
    "duration": 288,
    "start_time": "2022-06-28T12:56:03.316Z"
   },
   {
    "duration": 414,
    "start_time": "2022-06-28T12:56:03.605Z"
   },
   {
    "duration": 69,
    "start_time": "2022-06-28T12:56:04.020Z"
   },
   {
    "duration": 90,
    "start_time": "2022-06-28T12:56:04.091Z"
   },
   {
    "duration": 74,
    "start_time": "2022-06-28T12:56:04.182Z"
   },
   {
    "duration": 73,
    "start_time": "2022-06-28T12:58:41.033Z"
   },
   {
    "duration": 65,
    "start_time": "2022-06-28T12:58:45.270Z"
   },
   {
    "duration": 1567,
    "start_time": "2022-06-28T13:35:00.055Z"
   },
   {
    "duration": 5,
    "start_time": "2022-06-28T13:35:01.624Z"
   },
   {
    "duration": 15,
    "start_time": "2022-06-28T13:35:50.502Z"
   },
   {
    "duration": 128,
    "start_time": "2022-06-28T13:35:50.519Z"
   },
   {
    "duration": 30,
    "start_time": "2022-06-28T13:35:50.665Z"
   },
   {
    "duration": 26,
    "start_time": "2022-06-28T13:35:50.697Z"
   },
   {
    "duration": 64,
    "start_time": "2022-06-28T13:35:50.724Z"
   },
   {
    "duration": 86,
    "start_time": "2022-06-28T13:35:50.790Z"
   },
   {
    "duration": 3,
    "start_time": "2022-06-28T13:35:54.750Z"
   },
   {
    "duration": 3,
    "start_time": "2022-06-28T13:35:55.417Z"
   },
   {
    "duration": 3,
    "start_time": "2022-06-28T13:35:56.397Z"
   },
   {
    "duration": 67,
    "start_time": "2022-06-28T13:35:57.295Z"
   },
   {
    "duration": 12,
    "start_time": "2022-06-28T13:35:57.747Z"
   },
   {
    "duration": 76,
    "start_time": "2022-06-28T13:36:02.039Z"
   },
   {
    "duration": 227,
    "start_time": "2022-06-28T13:36:43.149Z"
   },
   {
    "duration": 815,
    "start_time": "2022-06-28T13:36:53.246Z"
   },
   {
    "duration": 277,
    "start_time": "2022-06-28T13:37:11.678Z"
   },
   {
    "duration": 258,
    "start_time": "2022-06-28T13:40:39.951Z"
   },
   {
    "duration": 270,
    "start_time": "2022-06-28T13:47:23.147Z"
   },
   {
    "duration": 255,
    "start_time": "2022-06-28T13:48:17.154Z"
   },
   {
    "duration": 12,
    "start_time": "2022-06-28T13:48:24.361Z"
   },
   {
    "duration": 133,
    "start_time": "2022-06-28T13:48:28.180Z"
   },
   {
    "duration": 139,
    "start_time": "2022-06-28T13:49:59.594Z"
   },
   {
    "duration": 148,
    "start_time": "2022-06-28T13:50:03.920Z"
   },
   {
    "duration": 114,
    "start_time": "2022-06-28T13:50:06.455Z"
   },
   {
    "duration": 76,
    "start_time": "2022-06-28T13:52:45.782Z"
   },
   {
    "duration": 69,
    "start_time": "2022-06-28T13:54:46.010Z"
   },
   {
    "duration": 95,
    "start_time": "2022-06-28T13:57:27.805Z"
   },
   {
    "duration": 1266,
    "start_time": "2022-06-28T13:58:37.416Z"
   },
   {
    "duration": 4,
    "start_time": "2022-06-28T13:58:38.684Z"
   },
   {
    "duration": 10781,
    "start_time": "2022-06-28T13:58:38.690Z"
   },
   {
    "duration": 48,
    "start_time": "2022-06-28T13:58:49.473Z"
   },
   {
    "duration": 28,
    "start_time": "2022-06-28T13:58:49.522Z"
   },
   {
    "duration": 68,
    "start_time": "2022-06-28T13:58:49.553Z"
   },
   {
    "duration": 273,
    "start_time": "2022-06-28T13:58:49.623Z"
   },
   {
    "duration": 11,
    "start_time": "2022-06-28T13:58:49.898Z"
   },
   {
    "duration": 148,
    "start_time": "2022-06-28T13:58:49.910Z"
   },
   {
    "duration": 132,
    "start_time": "2022-06-28T13:58:50.060Z"
   },
   {
    "duration": 94,
    "start_time": "2022-06-28T13:58:50.194Z"
   },
   {
    "duration": 132,
    "start_time": "2022-06-28T13:58:50.289Z"
   },
   {
    "duration": 1377,
    "start_time": "2022-06-28T13:58:50.423Z"
   },
   {
    "duration": 71,
    "start_time": "2022-06-28T13:58:51.802Z"
   },
   {
    "duration": 37,
    "start_time": "2022-06-28T13:58:51.875Z"
   },
   {
    "duration": 1140,
    "start_time": "2022-06-28T13:58:51.915Z"
   },
   {
    "duration": 9,
    "start_time": "2022-06-28T13:58:53.057Z"
   },
   {
    "duration": 309,
    "start_time": "2022-06-28T13:58:53.068Z"
   },
   {
    "duration": 417,
    "start_time": "2022-06-28T13:58:53.379Z"
   },
   {
    "duration": 66,
    "start_time": "2022-06-28T13:58:53.797Z"
   },
   {
    "duration": 100,
    "start_time": "2022-06-28T13:58:53.865Z"
   },
   {
    "duration": 94,
    "start_time": "2022-06-28T13:58:53.968Z"
   },
   {
    "duration": 1265,
    "start_time": "2022-06-29T14:26:15.816Z"
   },
   {
    "duration": 3,
    "start_time": "2022-06-29T14:26:17.083Z"
   },
   {
    "duration": 10325,
    "start_time": "2022-06-29T14:26:17.087Z"
   },
   {
    "duration": 203,
    "start_time": "2022-06-29T14:26:27.414Z"
   },
   {
    "duration": 15,
    "start_time": "2022-06-29T14:26:27.618Z"
   },
   {
    "duration": 100,
    "start_time": "2022-06-29T14:26:27.635Z"
   },
   {
    "duration": 292,
    "start_time": "2022-06-29T14:26:27.737Z"
   },
   {
    "duration": 11,
    "start_time": "2022-06-29T14:26:28.031Z"
   },
   {
    "duration": 127,
    "start_time": "2022-06-29T14:26:28.044Z"
   },
   {
    "duration": 128,
    "start_time": "2022-06-29T14:26:28.174Z"
   },
   {
    "duration": 87,
    "start_time": "2022-06-29T14:26:28.304Z"
   },
   {
    "duration": 158,
    "start_time": "2022-06-29T14:26:28.392Z"
   },
   {
    "duration": 1190,
    "start_time": "2022-06-29T14:26:28.551Z"
   },
   {
    "duration": 98,
    "start_time": "2022-06-29T14:26:29.742Z"
   },
   {
    "duration": 66,
    "start_time": "2022-06-29T14:26:29.841Z"
   },
   {
    "duration": 1024,
    "start_time": "2022-06-29T14:26:29.908Z"
   },
   {
    "duration": 9,
    "start_time": "2022-06-29T14:26:30.934Z"
   },
   {
    "duration": 330,
    "start_time": "2022-06-29T14:26:30.951Z"
   },
   {
    "duration": 358,
    "start_time": "2022-06-29T14:26:31.283Z"
   },
   {
    "duration": 100,
    "start_time": "2022-06-29T14:26:31.642Z"
   },
   {
    "duration": 82,
    "start_time": "2022-06-29T14:26:31.744Z"
   },
   {
    "duration": 119,
    "start_time": "2022-06-29T14:26:31.827Z"
   }
  ],
  "colab": {
   "name": "AdvansedSQLProjectTemplate.ipynb",
   "provenance": []
  },
  "kernelspec": {
   "display_name": "Python 3 (ipykernel)",
   "language": "python",
   "name": "python3"
  },
  "language_info": {
   "codemirror_mode": {
    "name": "ipython",
    "version": 3
   },
   "file_extension": ".py",
   "mimetype": "text/x-python",
   "name": "python",
   "nbconvert_exporter": "python",
   "pygments_lexer": "ipython3",
   "version": "3.10.6"
  },
  "toc": {
   "base_numbering": 1,
   "nav_menu": {},
   "number_sections": false,
   "sideBar": true,
   "skip_h1_title": false,
   "title_cell": "Table of Contents",
   "title_sidebar": "Contents",
   "toc_cell": false,
   "toc_position": {},
   "toc_section_display": true,
   "toc_window_display": true
  }
 },
 "nbformat": 4,
 "nbformat_minor": 4
}
